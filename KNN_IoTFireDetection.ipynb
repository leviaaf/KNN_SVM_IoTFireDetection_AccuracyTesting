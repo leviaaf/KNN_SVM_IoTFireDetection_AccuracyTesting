{
  "nbformat": 4,
  "nbformat_minor": 0,
  "metadata": {
    "colab": {
      "provenance": [],
      "include_colab_link": true
    },
    "kernelspec": {
      "name": "python3",
      "display_name": "Python 3"
    },
    "language_info": {
      "name": "python"
    }
  },
  "cells": [
    {
      "cell_type": "markdown",
      "metadata": {
        "id": "view-in-github",
        "colab_type": "text"
      },
      "source": [
        "<a href=\"https://colab.research.google.com/github/leviaaf/KNN_SVM_IoTFireDetection_AccuracyTesting/blob/main/KNN_IoTFireDetection.ipynb\" target=\"_parent\"><img src=\"https://colab.research.google.com/assets/colab-badge.svg\" alt=\"Open In Colab\"/></a>"
      ]
    },
    {
      "cell_type": "code",
      "execution_count": 1,
      "metadata": {
        "id": "XM2c17B1s7ZQ"
      },
      "outputs": [],
      "source": [
        "import numpy as np\n",
        "import pandas as pd\n",
        "import matplotlib.pyplot as plt\n",
        "import seaborn as sns"
      ]
    },
    {
      "cell_type": "code",
      "source": [
        "dataset = pd.read_csv('Training Dataset.csv')"
      ],
      "metadata": {
        "id": "et93UMz2tE5O"
      },
      "execution_count": 2,
      "outputs": []
    },
    {
      "cell_type": "code",
      "source": [
        "dataset.head()"
      ],
      "metadata": {
        "colab": {
          "base_uri": "https://localhost:8080/",
          "height": 206
        },
        "id": "tDeBgPdntIvZ",
        "outputId": "a5c21457-aacd-40a6-f938-322b3540990c"
      },
      "execution_count": 3,
      "outputs": [
        {
          "output_type": "execute_result",
          "data": {
            "text/plain": [
              "       Time  Api  Suhu  Kelembaban    PPM            Label\n",
              "0  13:33:59    0  26.9          72  50.14  Tidak Kebakaran\n",
              "1  13:34:03    0  26.8          72  50.89  Tidak Kebakaran\n",
              "2  13:34:06    0  26.9          72  49.77  Tidak Kebakaran\n",
              "3  13:34:10    0  26.9          72  51.64  Tidak Kebakaran\n",
              "4  13:34:14    0  26.8          72  54.34  Tidak Kebakaran"
            ],
            "text/html": [
              "\n",
              "  <div id=\"df-a6fdda4e-8627-4cb1-8ab0-15fd459b954d\">\n",
              "    <div class=\"colab-df-container\">\n",
              "      <div>\n",
              "<style scoped>\n",
              "    .dataframe tbody tr th:only-of-type {\n",
              "        vertical-align: middle;\n",
              "    }\n",
              "\n",
              "    .dataframe tbody tr th {\n",
              "        vertical-align: top;\n",
              "    }\n",
              "\n",
              "    .dataframe thead th {\n",
              "        text-align: right;\n",
              "    }\n",
              "</style>\n",
              "<table border=\"1\" class=\"dataframe\">\n",
              "  <thead>\n",
              "    <tr style=\"text-align: right;\">\n",
              "      <th></th>\n",
              "      <th>Time</th>\n",
              "      <th>Api</th>\n",
              "      <th>Suhu</th>\n",
              "      <th>Kelembaban</th>\n",
              "      <th>PPM</th>\n",
              "      <th>Label</th>\n",
              "    </tr>\n",
              "  </thead>\n",
              "  <tbody>\n",
              "    <tr>\n",
              "      <th>0</th>\n",
              "      <td>13:33:59</td>\n",
              "      <td>0</td>\n",
              "      <td>26.9</td>\n",
              "      <td>72</td>\n",
              "      <td>50.14</td>\n",
              "      <td>Tidak Kebakaran</td>\n",
              "    </tr>\n",
              "    <tr>\n",
              "      <th>1</th>\n",
              "      <td>13:34:03</td>\n",
              "      <td>0</td>\n",
              "      <td>26.8</td>\n",
              "      <td>72</td>\n",
              "      <td>50.89</td>\n",
              "      <td>Tidak Kebakaran</td>\n",
              "    </tr>\n",
              "    <tr>\n",
              "      <th>2</th>\n",
              "      <td>13:34:06</td>\n",
              "      <td>0</td>\n",
              "      <td>26.9</td>\n",
              "      <td>72</td>\n",
              "      <td>49.77</td>\n",
              "      <td>Tidak Kebakaran</td>\n",
              "    </tr>\n",
              "    <tr>\n",
              "      <th>3</th>\n",
              "      <td>13:34:10</td>\n",
              "      <td>0</td>\n",
              "      <td>26.9</td>\n",
              "      <td>72</td>\n",
              "      <td>51.64</td>\n",
              "      <td>Tidak Kebakaran</td>\n",
              "    </tr>\n",
              "    <tr>\n",
              "      <th>4</th>\n",
              "      <td>13:34:14</td>\n",
              "      <td>0</td>\n",
              "      <td>26.8</td>\n",
              "      <td>72</td>\n",
              "      <td>54.34</td>\n",
              "      <td>Tidak Kebakaran</td>\n",
              "    </tr>\n",
              "  </tbody>\n",
              "</table>\n",
              "</div>\n",
              "      <button class=\"colab-df-convert\" onclick=\"convertToInteractive('df-a6fdda4e-8627-4cb1-8ab0-15fd459b954d')\"\n",
              "              title=\"Convert this dataframe to an interactive table.\"\n",
              "              style=\"display:none;\">\n",
              "        \n",
              "  <svg xmlns=\"http://www.w3.org/2000/svg\" height=\"24px\"viewBox=\"0 0 24 24\"\n",
              "       width=\"24px\">\n",
              "    <path d=\"M0 0h24v24H0V0z\" fill=\"none\"/>\n",
              "    <path d=\"M18.56 5.44l.94 2.06.94-2.06 2.06-.94-2.06-.94-.94-2.06-.94 2.06-2.06.94zm-11 1L8.5 8.5l.94-2.06 2.06-.94-2.06-.94L8.5 2.5l-.94 2.06-2.06.94zm10 10l.94 2.06.94-2.06 2.06-.94-2.06-.94-.94-2.06-.94 2.06-2.06.94z\"/><path d=\"M17.41 7.96l-1.37-1.37c-.4-.4-.92-.59-1.43-.59-.52 0-1.04.2-1.43.59L10.3 9.45l-7.72 7.72c-.78.78-.78 2.05 0 2.83L4 21.41c.39.39.9.59 1.41.59.51 0 1.02-.2 1.41-.59l7.78-7.78 2.81-2.81c.8-.78.8-2.07 0-2.86zM5.41 20L4 18.59l7.72-7.72 1.47 1.35L5.41 20z\"/>\n",
              "  </svg>\n",
              "      </button>\n",
              "      \n",
              "  <style>\n",
              "    .colab-df-container {\n",
              "      display:flex;\n",
              "      flex-wrap:wrap;\n",
              "      gap: 12px;\n",
              "    }\n",
              "\n",
              "    .colab-df-convert {\n",
              "      background-color: #E8F0FE;\n",
              "      border: none;\n",
              "      border-radius: 50%;\n",
              "      cursor: pointer;\n",
              "      display: none;\n",
              "      fill: #1967D2;\n",
              "      height: 32px;\n",
              "      padding: 0 0 0 0;\n",
              "      width: 32px;\n",
              "    }\n",
              "\n",
              "    .colab-df-convert:hover {\n",
              "      background-color: #E2EBFA;\n",
              "      box-shadow: 0px 1px 2px rgba(60, 64, 67, 0.3), 0px 1px 3px 1px rgba(60, 64, 67, 0.15);\n",
              "      fill: #174EA6;\n",
              "    }\n",
              "\n",
              "    [theme=dark] .colab-df-convert {\n",
              "      background-color: #3B4455;\n",
              "      fill: #D2E3FC;\n",
              "    }\n",
              "\n",
              "    [theme=dark] .colab-df-convert:hover {\n",
              "      background-color: #434B5C;\n",
              "      box-shadow: 0px 1px 3px 1px rgba(0, 0, 0, 0.15);\n",
              "      filter: drop-shadow(0px 1px 2px rgba(0, 0, 0, 0.3));\n",
              "      fill: #FFFFFF;\n",
              "    }\n",
              "  </style>\n",
              "\n",
              "      <script>\n",
              "        const buttonEl =\n",
              "          document.querySelector('#df-a6fdda4e-8627-4cb1-8ab0-15fd459b954d button.colab-df-convert');\n",
              "        buttonEl.style.display =\n",
              "          google.colab.kernel.accessAllowed ? 'block' : 'none';\n",
              "\n",
              "        async function convertToInteractive(key) {\n",
              "          const element = document.querySelector('#df-a6fdda4e-8627-4cb1-8ab0-15fd459b954d');\n",
              "          const dataTable =\n",
              "            await google.colab.kernel.invokeFunction('convertToInteractive',\n",
              "                                                     [key], {});\n",
              "          if (!dataTable) return;\n",
              "\n",
              "          const docLinkHtml = 'Like what you see? Visit the ' +\n",
              "            '<a target=\"_blank\" href=https://colab.research.google.com/notebooks/data_table.ipynb>data table notebook</a>'\n",
              "            + ' to learn more about interactive tables.';\n",
              "          element.innerHTML = '';\n",
              "          dataTable['output_type'] = 'display_data';\n",
              "          await google.colab.output.renderOutput(dataTable, element);\n",
              "          const docLink = document.createElement('div');\n",
              "          docLink.innerHTML = docLinkHtml;\n",
              "          element.appendChild(docLink);\n",
              "        }\n",
              "      </script>\n",
              "    </div>\n",
              "  </div>\n",
              "  "
            ]
          },
          "metadata": {},
          "execution_count": 3
        }
      ]
    },
    {
      "cell_type": "code",
      "source": [
        "from sklearn.preprocessing import LabelEncoder"
      ],
      "metadata": {
        "id": "YvHQEGb8tLDG"
      },
      "execution_count": 4,
      "outputs": []
    },
    {
      "cell_type": "code",
      "source": [
        "le=LabelEncoder()\n",
        "dataset[\"Label\"]=le.fit_transform(dataset[\"Label\"])"
      ],
      "metadata": {
        "id": "4iM1WReGtVMn"
      },
      "execution_count": 5,
      "outputs": []
    },
    {
      "cell_type": "code",
      "source": [
        "dataset.head()"
      ],
      "metadata": {
        "colab": {
          "base_uri": "https://localhost:8080/",
          "height": 206
        },
        "id": "ntbRV_YhtftS",
        "outputId": "f96861ff-a0e3-4dcd-e554-d3985c3bd959"
      },
      "execution_count": 6,
      "outputs": [
        {
          "output_type": "execute_result",
          "data": {
            "text/plain": [
              "       Time  Api  Suhu  Kelembaban    PPM  Label\n",
              "0  13:33:59    0  26.9          72  50.14      0\n",
              "1  13:34:03    0  26.8          72  50.89      0\n",
              "2  13:34:06    0  26.9          72  49.77      0\n",
              "3  13:34:10    0  26.9          72  51.64      0\n",
              "4  13:34:14    0  26.8          72  54.34      0"
            ],
            "text/html": [
              "\n",
              "  <div id=\"df-9b23fe11-1888-44b6-9ed2-9a3de55dc440\">\n",
              "    <div class=\"colab-df-container\">\n",
              "      <div>\n",
              "<style scoped>\n",
              "    .dataframe tbody tr th:only-of-type {\n",
              "        vertical-align: middle;\n",
              "    }\n",
              "\n",
              "    .dataframe tbody tr th {\n",
              "        vertical-align: top;\n",
              "    }\n",
              "\n",
              "    .dataframe thead th {\n",
              "        text-align: right;\n",
              "    }\n",
              "</style>\n",
              "<table border=\"1\" class=\"dataframe\">\n",
              "  <thead>\n",
              "    <tr style=\"text-align: right;\">\n",
              "      <th></th>\n",
              "      <th>Time</th>\n",
              "      <th>Api</th>\n",
              "      <th>Suhu</th>\n",
              "      <th>Kelembaban</th>\n",
              "      <th>PPM</th>\n",
              "      <th>Label</th>\n",
              "    </tr>\n",
              "  </thead>\n",
              "  <tbody>\n",
              "    <tr>\n",
              "      <th>0</th>\n",
              "      <td>13:33:59</td>\n",
              "      <td>0</td>\n",
              "      <td>26.9</td>\n",
              "      <td>72</td>\n",
              "      <td>50.14</td>\n",
              "      <td>0</td>\n",
              "    </tr>\n",
              "    <tr>\n",
              "      <th>1</th>\n",
              "      <td>13:34:03</td>\n",
              "      <td>0</td>\n",
              "      <td>26.8</td>\n",
              "      <td>72</td>\n",
              "      <td>50.89</td>\n",
              "      <td>0</td>\n",
              "    </tr>\n",
              "    <tr>\n",
              "      <th>2</th>\n",
              "      <td>13:34:06</td>\n",
              "      <td>0</td>\n",
              "      <td>26.9</td>\n",
              "      <td>72</td>\n",
              "      <td>49.77</td>\n",
              "      <td>0</td>\n",
              "    </tr>\n",
              "    <tr>\n",
              "      <th>3</th>\n",
              "      <td>13:34:10</td>\n",
              "      <td>0</td>\n",
              "      <td>26.9</td>\n",
              "      <td>72</td>\n",
              "      <td>51.64</td>\n",
              "      <td>0</td>\n",
              "    </tr>\n",
              "    <tr>\n",
              "      <th>4</th>\n",
              "      <td>13:34:14</td>\n",
              "      <td>0</td>\n",
              "      <td>26.8</td>\n",
              "      <td>72</td>\n",
              "      <td>54.34</td>\n",
              "      <td>0</td>\n",
              "    </tr>\n",
              "  </tbody>\n",
              "</table>\n",
              "</div>\n",
              "      <button class=\"colab-df-convert\" onclick=\"convertToInteractive('df-9b23fe11-1888-44b6-9ed2-9a3de55dc440')\"\n",
              "              title=\"Convert this dataframe to an interactive table.\"\n",
              "              style=\"display:none;\">\n",
              "        \n",
              "  <svg xmlns=\"http://www.w3.org/2000/svg\" height=\"24px\"viewBox=\"0 0 24 24\"\n",
              "       width=\"24px\">\n",
              "    <path d=\"M0 0h24v24H0V0z\" fill=\"none\"/>\n",
              "    <path d=\"M18.56 5.44l.94 2.06.94-2.06 2.06-.94-2.06-.94-.94-2.06-.94 2.06-2.06.94zm-11 1L8.5 8.5l.94-2.06 2.06-.94-2.06-.94L8.5 2.5l-.94 2.06-2.06.94zm10 10l.94 2.06.94-2.06 2.06-.94-2.06-.94-.94-2.06-.94 2.06-2.06.94z\"/><path d=\"M17.41 7.96l-1.37-1.37c-.4-.4-.92-.59-1.43-.59-.52 0-1.04.2-1.43.59L10.3 9.45l-7.72 7.72c-.78.78-.78 2.05 0 2.83L4 21.41c.39.39.9.59 1.41.59.51 0 1.02-.2 1.41-.59l7.78-7.78 2.81-2.81c.8-.78.8-2.07 0-2.86zM5.41 20L4 18.59l7.72-7.72 1.47 1.35L5.41 20z\"/>\n",
              "  </svg>\n",
              "      </button>\n",
              "      \n",
              "  <style>\n",
              "    .colab-df-container {\n",
              "      display:flex;\n",
              "      flex-wrap:wrap;\n",
              "      gap: 12px;\n",
              "    }\n",
              "\n",
              "    .colab-df-convert {\n",
              "      background-color: #E8F0FE;\n",
              "      border: none;\n",
              "      border-radius: 50%;\n",
              "      cursor: pointer;\n",
              "      display: none;\n",
              "      fill: #1967D2;\n",
              "      height: 32px;\n",
              "      padding: 0 0 0 0;\n",
              "      width: 32px;\n",
              "    }\n",
              "\n",
              "    .colab-df-convert:hover {\n",
              "      background-color: #E2EBFA;\n",
              "      box-shadow: 0px 1px 2px rgba(60, 64, 67, 0.3), 0px 1px 3px 1px rgba(60, 64, 67, 0.15);\n",
              "      fill: #174EA6;\n",
              "    }\n",
              "\n",
              "    [theme=dark] .colab-df-convert {\n",
              "      background-color: #3B4455;\n",
              "      fill: #D2E3FC;\n",
              "    }\n",
              "\n",
              "    [theme=dark] .colab-df-convert:hover {\n",
              "      background-color: #434B5C;\n",
              "      box-shadow: 0px 1px 3px 1px rgba(0, 0, 0, 0.15);\n",
              "      filter: drop-shadow(0px 1px 2px rgba(0, 0, 0, 0.3));\n",
              "      fill: #FFFFFF;\n",
              "    }\n",
              "  </style>\n",
              "\n",
              "      <script>\n",
              "        const buttonEl =\n",
              "          document.querySelector('#df-9b23fe11-1888-44b6-9ed2-9a3de55dc440 button.colab-df-convert');\n",
              "        buttonEl.style.display =\n",
              "          google.colab.kernel.accessAllowed ? 'block' : 'none';\n",
              "\n",
              "        async function convertToInteractive(key) {\n",
              "          const element = document.querySelector('#df-9b23fe11-1888-44b6-9ed2-9a3de55dc440');\n",
              "          const dataTable =\n",
              "            await google.colab.kernel.invokeFunction('convertToInteractive',\n",
              "                                                     [key], {});\n",
              "          if (!dataTable) return;\n",
              "\n",
              "          const docLinkHtml = 'Like what you see? Visit the ' +\n",
              "            '<a target=\"_blank\" href=https://colab.research.google.com/notebooks/data_table.ipynb>data table notebook</a>'\n",
              "            + ' to learn more about interactive tables.';\n",
              "          element.innerHTML = '';\n",
              "          dataTable['output_type'] = 'display_data';\n",
              "          await google.colab.output.renderOutput(dataTable, element);\n",
              "          const docLink = document.createElement('div');\n",
              "          docLink.innerHTML = docLinkHtml;\n",
              "          element.appendChild(docLink);\n",
              "        }\n",
              "      </script>\n",
              "    </div>\n",
              "  </div>\n",
              "  "
            ]
          },
          "metadata": {},
          "execution_count": 6
        }
      ]
    },
    {
      "cell_type": "code",
      "source": [
        "dataset = dataset.iloc[:,1:]\n",
        "dataset.head()"
      ],
      "metadata": {
        "colab": {
          "base_uri": "https://localhost:8080/",
          "height": 206
        },
        "id": "E84oQM1Atnd8",
        "outputId": "96330002-14a3-4642-9d32-0edf4dc222e9"
      },
      "execution_count": 7,
      "outputs": [
        {
          "output_type": "execute_result",
          "data": {
            "text/plain": [
              "   Api  Suhu  Kelembaban    PPM  Label\n",
              "0    0  26.9          72  50.14      0\n",
              "1    0  26.8          72  50.89      0\n",
              "2    0  26.9          72  49.77      0\n",
              "3    0  26.9          72  51.64      0\n",
              "4    0  26.8          72  54.34      0"
            ],
            "text/html": [
              "\n",
              "  <div id=\"df-6e87bbc1-7190-4f24-a77a-5071853272ed\">\n",
              "    <div class=\"colab-df-container\">\n",
              "      <div>\n",
              "<style scoped>\n",
              "    .dataframe tbody tr th:only-of-type {\n",
              "        vertical-align: middle;\n",
              "    }\n",
              "\n",
              "    .dataframe tbody tr th {\n",
              "        vertical-align: top;\n",
              "    }\n",
              "\n",
              "    .dataframe thead th {\n",
              "        text-align: right;\n",
              "    }\n",
              "</style>\n",
              "<table border=\"1\" class=\"dataframe\">\n",
              "  <thead>\n",
              "    <tr style=\"text-align: right;\">\n",
              "      <th></th>\n",
              "      <th>Api</th>\n",
              "      <th>Suhu</th>\n",
              "      <th>Kelembaban</th>\n",
              "      <th>PPM</th>\n",
              "      <th>Label</th>\n",
              "    </tr>\n",
              "  </thead>\n",
              "  <tbody>\n",
              "    <tr>\n",
              "      <th>0</th>\n",
              "      <td>0</td>\n",
              "      <td>26.9</td>\n",
              "      <td>72</td>\n",
              "      <td>50.14</td>\n",
              "      <td>0</td>\n",
              "    </tr>\n",
              "    <tr>\n",
              "      <th>1</th>\n",
              "      <td>0</td>\n",
              "      <td>26.8</td>\n",
              "      <td>72</td>\n",
              "      <td>50.89</td>\n",
              "      <td>0</td>\n",
              "    </tr>\n",
              "    <tr>\n",
              "      <th>2</th>\n",
              "      <td>0</td>\n",
              "      <td>26.9</td>\n",
              "      <td>72</td>\n",
              "      <td>49.77</td>\n",
              "      <td>0</td>\n",
              "    </tr>\n",
              "    <tr>\n",
              "      <th>3</th>\n",
              "      <td>0</td>\n",
              "      <td>26.9</td>\n",
              "      <td>72</td>\n",
              "      <td>51.64</td>\n",
              "      <td>0</td>\n",
              "    </tr>\n",
              "    <tr>\n",
              "      <th>4</th>\n",
              "      <td>0</td>\n",
              "      <td>26.8</td>\n",
              "      <td>72</td>\n",
              "      <td>54.34</td>\n",
              "      <td>0</td>\n",
              "    </tr>\n",
              "  </tbody>\n",
              "</table>\n",
              "</div>\n",
              "      <button class=\"colab-df-convert\" onclick=\"convertToInteractive('df-6e87bbc1-7190-4f24-a77a-5071853272ed')\"\n",
              "              title=\"Convert this dataframe to an interactive table.\"\n",
              "              style=\"display:none;\">\n",
              "        \n",
              "  <svg xmlns=\"http://www.w3.org/2000/svg\" height=\"24px\"viewBox=\"0 0 24 24\"\n",
              "       width=\"24px\">\n",
              "    <path d=\"M0 0h24v24H0V0z\" fill=\"none\"/>\n",
              "    <path d=\"M18.56 5.44l.94 2.06.94-2.06 2.06-.94-2.06-.94-.94-2.06-.94 2.06-2.06.94zm-11 1L8.5 8.5l.94-2.06 2.06-.94-2.06-.94L8.5 2.5l-.94 2.06-2.06.94zm10 10l.94 2.06.94-2.06 2.06-.94-2.06-.94-.94-2.06-.94 2.06-2.06.94z\"/><path d=\"M17.41 7.96l-1.37-1.37c-.4-.4-.92-.59-1.43-.59-.52 0-1.04.2-1.43.59L10.3 9.45l-7.72 7.72c-.78.78-.78 2.05 0 2.83L4 21.41c.39.39.9.59 1.41.59.51 0 1.02-.2 1.41-.59l7.78-7.78 2.81-2.81c.8-.78.8-2.07 0-2.86zM5.41 20L4 18.59l7.72-7.72 1.47 1.35L5.41 20z\"/>\n",
              "  </svg>\n",
              "      </button>\n",
              "      \n",
              "  <style>\n",
              "    .colab-df-container {\n",
              "      display:flex;\n",
              "      flex-wrap:wrap;\n",
              "      gap: 12px;\n",
              "    }\n",
              "\n",
              "    .colab-df-convert {\n",
              "      background-color: #E8F0FE;\n",
              "      border: none;\n",
              "      border-radius: 50%;\n",
              "      cursor: pointer;\n",
              "      display: none;\n",
              "      fill: #1967D2;\n",
              "      height: 32px;\n",
              "      padding: 0 0 0 0;\n",
              "      width: 32px;\n",
              "    }\n",
              "\n",
              "    .colab-df-convert:hover {\n",
              "      background-color: #E2EBFA;\n",
              "      box-shadow: 0px 1px 2px rgba(60, 64, 67, 0.3), 0px 1px 3px 1px rgba(60, 64, 67, 0.15);\n",
              "      fill: #174EA6;\n",
              "    }\n",
              "\n",
              "    [theme=dark] .colab-df-convert {\n",
              "      background-color: #3B4455;\n",
              "      fill: #D2E3FC;\n",
              "    }\n",
              "\n",
              "    [theme=dark] .colab-df-convert:hover {\n",
              "      background-color: #434B5C;\n",
              "      box-shadow: 0px 1px 3px 1px rgba(0, 0, 0, 0.15);\n",
              "      filter: drop-shadow(0px 1px 2px rgba(0, 0, 0, 0.3));\n",
              "      fill: #FFFFFF;\n",
              "    }\n",
              "  </style>\n",
              "\n",
              "      <script>\n",
              "        const buttonEl =\n",
              "          document.querySelector('#df-6e87bbc1-7190-4f24-a77a-5071853272ed button.colab-df-convert');\n",
              "        buttonEl.style.display =\n",
              "          google.colab.kernel.accessAllowed ? 'block' : 'none';\n",
              "\n",
              "        async function convertToInteractive(key) {\n",
              "          const element = document.querySelector('#df-6e87bbc1-7190-4f24-a77a-5071853272ed');\n",
              "          const dataTable =\n",
              "            await google.colab.kernel.invokeFunction('convertToInteractive',\n",
              "                                                     [key], {});\n",
              "          if (!dataTable) return;\n",
              "\n",
              "          const docLinkHtml = 'Like what you see? Visit the ' +\n",
              "            '<a target=\"_blank\" href=https://colab.research.google.com/notebooks/data_table.ipynb>data table notebook</a>'\n",
              "            + ' to learn more about interactive tables.';\n",
              "          element.innerHTML = '';\n",
              "          dataTable['output_type'] = 'display_data';\n",
              "          await google.colab.output.renderOutput(dataTable, element);\n",
              "          const docLink = document.createElement('div');\n",
              "          docLink.innerHTML = docLinkHtml;\n",
              "          element.appendChild(docLink);\n",
              "        }\n",
              "      </script>\n",
              "    </div>\n",
              "  </div>\n",
              "  "
            ]
          },
          "metadata": {},
          "execution_count": 7
        }
      ]
    },
    {
      "cell_type": "code",
      "source": [
        "x=dataset.iloc[ : , :-1]\n",
        "x.head()"
      ],
      "metadata": {
        "colab": {
          "base_uri": "https://localhost:8080/",
          "height": 206
        },
        "id": "2s7AOyCDtt_x",
        "outputId": "55bc99c9-1c22-4586-d075-b35e5d4e82c1"
      },
      "execution_count": 8,
      "outputs": [
        {
          "output_type": "execute_result",
          "data": {
            "text/plain": [
              "   Api  Suhu  Kelembaban    PPM\n",
              "0    0  26.9          72  50.14\n",
              "1    0  26.8          72  50.89\n",
              "2    0  26.9          72  49.77\n",
              "3    0  26.9          72  51.64\n",
              "4    0  26.8          72  54.34"
            ],
            "text/html": [
              "\n",
              "  <div id=\"df-58ceb70b-0726-4c45-b5a0-4fe30bd3001a\">\n",
              "    <div class=\"colab-df-container\">\n",
              "      <div>\n",
              "<style scoped>\n",
              "    .dataframe tbody tr th:only-of-type {\n",
              "        vertical-align: middle;\n",
              "    }\n",
              "\n",
              "    .dataframe tbody tr th {\n",
              "        vertical-align: top;\n",
              "    }\n",
              "\n",
              "    .dataframe thead th {\n",
              "        text-align: right;\n",
              "    }\n",
              "</style>\n",
              "<table border=\"1\" class=\"dataframe\">\n",
              "  <thead>\n",
              "    <tr style=\"text-align: right;\">\n",
              "      <th></th>\n",
              "      <th>Api</th>\n",
              "      <th>Suhu</th>\n",
              "      <th>Kelembaban</th>\n",
              "      <th>PPM</th>\n",
              "    </tr>\n",
              "  </thead>\n",
              "  <tbody>\n",
              "    <tr>\n",
              "      <th>0</th>\n",
              "      <td>0</td>\n",
              "      <td>26.9</td>\n",
              "      <td>72</td>\n",
              "      <td>50.14</td>\n",
              "    </tr>\n",
              "    <tr>\n",
              "      <th>1</th>\n",
              "      <td>0</td>\n",
              "      <td>26.8</td>\n",
              "      <td>72</td>\n",
              "      <td>50.89</td>\n",
              "    </tr>\n",
              "    <tr>\n",
              "      <th>2</th>\n",
              "      <td>0</td>\n",
              "      <td>26.9</td>\n",
              "      <td>72</td>\n",
              "      <td>49.77</td>\n",
              "    </tr>\n",
              "    <tr>\n",
              "      <th>3</th>\n",
              "      <td>0</td>\n",
              "      <td>26.9</td>\n",
              "      <td>72</td>\n",
              "      <td>51.64</td>\n",
              "    </tr>\n",
              "    <tr>\n",
              "      <th>4</th>\n",
              "      <td>0</td>\n",
              "      <td>26.8</td>\n",
              "      <td>72</td>\n",
              "      <td>54.34</td>\n",
              "    </tr>\n",
              "  </tbody>\n",
              "</table>\n",
              "</div>\n",
              "      <button class=\"colab-df-convert\" onclick=\"convertToInteractive('df-58ceb70b-0726-4c45-b5a0-4fe30bd3001a')\"\n",
              "              title=\"Convert this dataframe to an interactive table.\"\n",
              "              style=\"display:none;\">\n",
              "        \n",
              "  <svg xmlns=\"http://www.w3.org/2000/svg\" height=\"24px\"viewBox=\"0 0 24 24\"\n",
              "       width=\"24px\">\n",
              "    <path d=\"M0 0h24v24H0V0z\" fill=\"none\"/>\n",
              "    <path d=\"M18.56 5.44l.94 2.06.94-2.06 2.06-.94-2.06-.94-.94-2.06-.94 2.06-2.06.94zm-11 1L8.5 8.5l.94-2.06 2.06-.94-2.06-.94L8.5 2.5l-.94 2.06-2.06.94zm10 10l.94 2.06.94-2.06 2.06-.94-2.06-.94-.94-2.06-.94 2.06-2.06.94z\"/><path d=\"M17.41 7.96l-1.37-1.37c-.4-.4-.92-.59-1.43-.59-.52 0-1.04.2-1.43.59L10.3 9.45l-7.72 7.72c-.78.78-.78 2.05 0 2.83L4 21.41c.39.39.9.59 1.41.59.51 0 1.02-.2 1.41-.59l7.78-7.78 2.81-2.81c.8-.78.8-2.07 0-2.86zM5.41 20L4 18.59l7.72-7.72 1.47 1.35L5.41 20z\"/>\n",
              "  </svg>\n",
              "      </button>\n",
              "      \n",
              "  <style>\n",
              "    .colab-df-container {\n",
              "      display:flex;\n",
              "      flex-wrap:wrap;\n",
              "      gap: 12px;\n",
              "    }\n",
              "\n",
              "    .colab-df-convert {\n",
              "      background-color: #E8F0FE;\n",
              "      border: none;\n",
              "      border-radius: 50%;\n",
              "      cursor: pointer;\n",
              "      display: none;\n",
              "      fill: #1967D2;\n",
              "      height: 32px;\n",
              "      padding: 0 0 0 0;\n",
              "      width: 32px;\n",
              "    }\n",
              "\n",
              "    .colab-df-convert:hover {\n",
              "      background-color: #E2EBFA;\n",
              "      box-shadow: 0px 1px 2px rgba(60, 64, 67, 0.3), 0px 1px 3px 1px rgba(60, 64, 67, 0.15);\n",
              "      fill: #174EA6;\n",
              "    }\n",
              "\n",
              "    [theme=dark] .colab-df-convert {\n",
              "      background-color: #3B4455;\n",
              "      fill: #D2E3FC;\n",
              "    }\n",
              "\n",
              "    [theme=dark] .colab-df-convert:hover {\n",
              "      background-color: #434B5C;\n",
              "      box-shadow: 0px 1px 3px 1px rgba(0, 0, 0, 0.15);\n",
              "      filter: drop-shadow(0px 1px 2px rgba(0, 0, 0, 0.3));\n",
              "      fill: #FFFFFF;\n",
              "    }\n",
              "  </style>\n",
              "\n",
              "      <script>\n",
              "        const buttonEl =\n",
              "          document.querySelector('#df-58ceb70b-0726-4c45-b5a0-4fe30bd3001a button.colab-df-convert');\n",
              "        buttonEl.style.display =\n",
              "          google.colab.kernel.accessAllowed ? 'block' : 'none';\n",
              "\n",
              "        async function convertToInteractive(key) {\n",
              "          const element = document.querySelector('#df-58ceb70b-0726-4c45-b5a0-4fe30bd3001a');\n",
              "          const dataTable =\n",
              "            await google.colab.kernel.invokeFunction('convertToInteractive',\n",
              "                                                     [key], {});\n",
              "          if (!dataTable) return;\n",
              "\n",
              "          const docLinkHtml = 'Like what you see? Visit the ' +\n",
              "            '<a target=\"_blank\" href=https://colab.research.google.com/notebooks/data_table.ipynb>data table notebook</a>'\n",
              "            + ' to learn more about interactive tables.';\n",
              "          element.innerHTML = '';\n",
              "          dataTable['output_type'] = 'display_data';\n",
              "          await google.colab.output.renderOutput(dataTable, element);\n",
              "          const docLink = document.createElement('div');\n",
              "          docLink.innerHTML = docLinkHtml;\n",
              "          element.appendChild(docLink);\n",
              "        }\n",
              "      </script>\n",
              "    </div>\n",
              "  </div>\n",
              "  "
            ]
          },
          "metadata": {},
          "execution_count": 8
        }
      ]
    },
    {
      "cell_type": "code",
      "source": [
        "y=dataset.iloc[ : ,-1]\n",
        "y.head()"
      ],
      "metadata": {
        "colab": {
          "base_uri": "https://localhost:8080/"
        },
        "id": "rqyMKNI2tyab",
        "outputId": "46baeba9-7122-4e43-ef80-88e64990644c"
      },
      "execution_count": 9,
      "outputs": [
        {
          "output_type": "execute_result",
          "data": {
            "text/plain": [
              "0    0\n",
              "1    0\n",
              "2    0\n",
              "3    0\n",
              "4    0\n",
              "Name: Label, dtype: int64"
            ]
          },
          "metadata": {},
          "execution_count": 9
        }
      ]
    },
    {
      "cell_type": "code",
      "source": [
        "from sklearn.model_selection import train_test_split\n",
        "xtrain,xtest,ytrain,ytest=train_test_split(x,y,test_size=0.2,random_state=1)"
      ],
      "metadata": {
        "id": "GBqCteo_t2bP"
      },
      "execution_count": 10,
      "outputs": []
    },
    {
      "cell_type": "code",
      "source": [
        "print(xtrain)"
      ],
      "metadata": {
        "colab": {
          "base_uri": "https://localhost:8080/"
        },
        "id": "-ONleSwEt6Vu",
        "outputId": "d55f45d8-38c9-47e2-b106-0c6e90dba5c3"
      },
      "execution_count": 11,
      "outputs": [
        {
          "output_type": "stream",
          "name": "stdout",
          "text": [
            "     Api  Suhu  Kelembaban     PPM\n",
            "27     0  26.8          74   49.03\n",
            "289    0  23.5          85   29.45\n",
            "73     0  26.7          73  458.20\n",
            "219    1  35.0          59  446.71\n",
            "336    0  34.9          47  544.76\n",
            "..   ...   ...         ...     ...\n",
            "203    1  30.4          73  353.83\n",
            "255    0  23.2          84    4.55\n",
            "72     0  26.7          73  456.54\n",
            "235    1  37.4          52  445.09\n",
            "37     0  26.8          74   50.89\n",
            "\n",
            "[296 rows x 4 columns]\n"
          ]
        }
      ]
    },
    {
      "cell_type": "code",
      "source": [
        "print(xtest)"
      ],
      "metadata": {
        "colab": {
          "base_uri": "https://localhost:8080/"
        },
        "id": "o5vVaAFNt7K6",
        "outputId": "23fd2703-a795-4ff1-b59f-467cf420707b"
      },
      "execution_count": 12,
      "outputs": [
        {
          "output_type": "stream",
          "name": "stdout",
          "text": [
            "     Api  Suhu  Kelembaban     PPM\n",
            "207    1  31.4          66  389.42\n",
            "82     1  27.1          76  440.24\n",
            "185    0  23.6          84   70.56\n",
            "368    0  29.9          60  435.43\n",
            "65     0  26.7          74   60.84\n",
            "..   ...   ...         ...     ...\n",
            "139    0  23.6          84   51.26\n",
            "278    0  23.4          84   13.88\n",
            "356    0  31.5          57  443.47\n",
            "342    0  33.7          49  473.28\n",
            "81     1  27.0          75  408.90\n",
            "\n",
            "[75 rows x 4 columns]\n"
          ]
        }
      ]
    },
    {
      "cell_type": "code",
      "source": [
        "from sklearn.preprocessing import Normalizer\n",
        "normscaler = Normalizer()\n",
        "xtrain = normscaler.fit_transform(xtrain)\n",
        "xtest = normscaler.fit_transform(xtest)"
      ],
      "metadata": {
        "id": "2-VYyJ1mt84L"
      },
      "execution_count": 13,
      "outputs": []
    },
    {
      "cell_type": "code",
      "source": [
        "print(xtrain)"
      ],
      "metadata": {
        "colab": {
          "base_uri": "https://localhost:8080/"
        },
        "id": "DLWkrnvFt_iP",
        "outputId": "3f3baa83-4312-40b7-9427-9d6fe32e15d6"
      },
      "execution_count": 14,
      "outputs": [
        {
          "output_type": "stream",
          "name": "stdout",
          "text": [
            "[[0.         0.2890224  0.79804693 0.52876001]\n",
            " [0.         0.25275317 0.91421358 0.31674812]\n",
            " [0.         0.0574507  0.15707494 0.98591424]\n",
            " ...\n",
            " [0.         0.05765372 0.15763001 0.98581379]\n",
            " [0.00222382 0.08317092 0.11563871 0.98980066]\n",
            " [0.         0.28594851 0.78955932 0.54298208]]\n"
          ]
        }
      ]
    },
    {
      "cell_type": "code",
      "source": [
        "print(xtest)"
      ],
      "metadata": {
        "colab": {
          "base_uri": "https://localhost:8080/"
        },
        "id": "Cy7jE2t7uEio",
        "outputId": "d2b86b49-1b45-4172-ca80-f9921094fe33"
      },
      "execution_count": 15,
      "outputs": [
        {
          "output_type": "stream",
          "name": "stdout",
          "text": [
            "[[2.52384550e-03 7.92487487e-02 1.66573803e-01 9.82835914e-01]\n",
            " [2.23426639e-03 6.05486192e-02 1.69804246e-01 9.83613436e-01]\n",
            " [0.00000000e+00 2.10315013e-01 7.48578858e-01 6.28806241e-01]\n",
            " [0.00000000e+00 6.78681361e-02 1.36190240e-01 9.88355267e-01]\n",
            " [0.00000000e+00 2.68475358e-01 7.44089007e-01 6.11761827e-01]\n",
            " [0.00000000e+00 1.74722085e-02 2.57715075e-02 9.99515158e-01]\n",
            " [3.34381941e-04 1.12686714e-02 2.77537011e-02 9.99551218e-01]\n",
            " [0.00000000e+00 2.58619867e-01 9.39431140e-01 2.24910867e-01]\n",
            " [0.00000000e+00 2.51811446e-01 9.10807357e-01 3.27140572e-01]\n",
            " [9.30935603e-04 2.93244715e-02 7.63367194e-02 9.96650347e-01]\n",
            " [0.00000000e+00 1.51737693e-02 2.30822925e-02 9.99618409e-01]\n",
            " [0.00000000e+00 2.16728155e-01 7.80588694e-01 5.86268026e-01]\n",
            " [0.00000000e+00 2.37889881e-01 8.46726694e-01 4.75880562e-01]\n",
            " [0.00000000e+00 2.57174176e-01 9.30204468e-01 2.61879917e-01]\n",
            " [0.00000000e+00 2.96587502e-01 7.96802244e-01 5.26442816e-01]\n",
            " [0.00000000e+00 2.29133418e-01 8.15559622e-01 5.31375930e-01]\n",
            " [0.00000000e+00 6.27715788e-02 9.95159177e-02 9.93054032e-01]\n",
            " [2.88289407e-04 9.39823467e-03 2.39280208e-02 9.99669465e-01]\n",
            " [0.00000000e+00 2.35316601e-01 8.51145152e-01 4.69231316e-01]\n",
            " [0.00000000e+00 2.92171856e-01 8.09764694e-01 5.08838625e-01]\n",
            " [4.58388324e-04 1.56310419e-02 3.80462309e-02 9.99153614e-01]\n",
            " [1.39498392e-03 3.51535947e-02 1.18573633e-01 9.92321809e-01]\n",
            " [1.20449906e-03 3.69781211e-02 9.87689229e-02 9.94422379e-01]\n",
            " [0.00000000e+00 2.31731962e-01 8.34627830e-01 4.99696591e-01]\n",
            " [0.00000000e+00 2.84799129e-01 7.65131989e-01 5.77462115e-01]\n",
            " [2.36845173e-03 8.36063462e-02 1.39738652e-01 9.86649623e-01]\n",
            " [0.00000000e+00 1.41556758e-02 2.15874055e-02 9.99666745e-01]\n",
            " [3.23182573e-04 1.28303482e-02 1.97141370e-02 9.99723277e-01]\n",
            " [0.00000000e+00 1.68687639e-01 4.61205906e-01 8.71110552e-01]\n",
            " [0.00000000e+00 5.71678003e-02 7.20602524e-02 9.95760595e-01]\n",
            " [0.00000000e+00 6.27111440e-02 9.06444265e-02 9.93906887e-01]\n",
            " [0.00000000e+00 2.19237557e-01 7.89626794e-01 5.73083258e-01]\n",
            " [0.00000000e+00 2.27724487e-01 8.10544785e-01 5.39591243e-01]\n",
            " [1.69214348e-03 6.31169519e-02 9.13757481e-02 9.93812789e-01]\n",
            " [0.00000000e+00 5.88753475e-02 1.06048763e-01 9.92616418e-01]\n",
            " [1.63722318e-03 6.07409799e-02 8.51356053e-02 9.94514847e-01]\n",
            " [0.00000000e+00 2.61349312e-01 9.42203528e-01 2.09640285e-01]\n",
            " [0.00000000e+00 2.95324559e-01 7.93409263e-01 5.32245381e-01]\n",
            " [0.00000000e+00 2.15681029e-01 7.67678238e-01 6.03449929e-01]\n",
            " [0.00000000e+00 2.21868159e-01 7.89700227e-01 5.71968593e-01]\n",
            " [2.02420644e-03 5.76898835e-02 1.57888102e-01 9.85768293e-01]\n",
            " [0.00000000e+00 2.35694673e-01 8.42483087e-01 4.84427775e-01]\n",
            " [0.00000000e+00 7.00835847e-02 1.27628253e-01 9.89342873e-01]\n",
            " [0.00000000e+00 2.46601311e-03 8.85235474e-03 9.99957776e-01]\n",
            " [0.00000000e+00 2.95303710e-01 7.82334455e-01 5.48405434e-01]\n",
            " [0.00000000e+00 2.23131737e-01 8.03652444e-01 5.51683766e-01]\n",
            " [0.00000000e+00 3.03777627e-01 8.16118998e-01 4.91598346e-01]\n",
            " [1.88140135e-03 6.34032253e-02 1.26053890e-01 9.89993388e-01]\n",
            " [0.00000000e+00 2.47863460e-01 8.96527408e-01 3.67154342e-01]\n",
            " [2.64264840e-03 7.50512146e-02 2.06126575e-01 9.75639363e-01]\n",
            " [0.00000000e+00 2.65581610e-01 9.57461597e-01 1.12843688e-01]\n",
            " [0.00000000e+00 2.74223029e-01 7.57182991e-01 5.92853817e-01]\n",
            " [0.00000000e+00 6.79962279e-02 1.31103838e-01 9.89034022e-01]\n",
            " [7.47430918e-04 2.35440739e-02 5.90470426e-02 9.97977237e-01]\n",
            " [0.00000000e+00 7.40007192e-02 1.35193622e-01 9.88051911e-01]\n",
            " [2.18163994e-03 7.87572017e-02 1.26535116e-01 9.88828301e-01]\n",
            " [0.00000000e+00 2.65737684e-01 9.62153682e-01 6.03636894e-02]\n",
            " [0.00000000e+00 2.34529596e-01 8.48298539e-01 4.74747782e-01]\n",
            " [2.48077900e-03 6.64848771e-02 1.83577646e-01 9.80751169e-01]\n",
            " [0.00000000e+00 7.20421511e-02 1.42188456e-01 9.87214451e-01]\n",
            " [0.00000000e+00 2.64854909e-01 9.50761211e-01 1.60950291e-01]\n",
            " [0.00000000e+00 2.83418517e-01 7.61422882e-01 5.83017271e-01]\n",
            " [0.00000000e+00 2.93277188e-01 7.87908863e-01 5.41468480e-01]\n",
            " [2.29484997e-03 8.55979039e-02 1.26216748e-01 9.88300089e-01]\n",
            " [0.00000000e+00 2.16728155e-01 7.80588694e-01 5.86268026e-01]\n",
            " [0.00000000e+00 2.64043148e-01 9.51915212e-01 1.55366161e-01]\n",
            " [1.17172591e-03 3.49174320e-02 9.60815243e-02 9.94760142e-01]\n",
            " [1.18901023e-03 4.32799723e-02 6.42065523e-02 9.96996965e-01]\n",
            " [0.00000000e+00 6.46130404e-02 9.28457178e-02 9.93581817e-01]\n",
            " [0.00000000e+00 2.36494949e-01 8.55407264e-01 4.60812925e-01]\n",
            " [0.00000000e+00 2.33211742e-01 8.30075691e-01 5.06543809e-01]\n",
            " [0.00000000e+00 2.65017145e-01 9.51343596e-01 1.57198204e-01]\n",
            " [0.00000000e+00 7.02769876e-02 1.27167882e-01 9.89388435e-01]\n",
            " [0.00000000e+00 7.06496393e-02 1.02724995e-01 9.92197664e-01]\n",
            " [2.40039340e-03 6.48106217e-02 1.80029505e-01 9.81520860e-01]]\n"
          ]
        }
      ]
    },
    {
      "cell_type": "code",
      "source": [
        "from sklearn.metrics import accuracy_score, confusion_matrix, classification_report"
      ],
      "metadata": {
        "id": "_fMsFClRuFXo"
      },
      "execution_count": 16,
      "outputs": []
    },
    {
      "cell_type": "code",
      "source": [
        "from sklearn.neighbors import KNeighborsClassifier\n",
        "knn=KNeighborsClassifier()\n",
        "knn.fit(xtrain,ytrain)\n",
        "ypred=knn.predict(xtest)"
      ],
      "metadata": {
        "id": "dcYqa9M9uJOA"
      },
      "execution_count": 17,
      "outputs": []
    },
    {
      "cell_type": "code",
      "source": [
        "accuracy=[]\n",
        "for i in range(1,50):\n",
        "    knn=KNeighborsClassifier(n_neighbors=i)\n",
        "    knn.fit(xtrain,ytrain)\n",
        "    ypred=knn.predict(xtest)\n",
        "    ac=accuracy_score(ytest,ypred)\n",
        "    accuracy.append(ac)"
      ],
      "metadata": {
        "id": "QZM5UNomuMn0"
      },
      "execution_count": 18,
      "outputs": []
    },
    {
      "cell_type": "code",
      "source": [
        "print(accuracy)"
      ],
      "metadata": {
        "colab": {
          "base_uri": "https://localhost:8080/"
        },
        "id": "m47BRL2JUJER",
        "outputId": "a43f4cbe-9b09-4e2b-8f93-6b8a18e1c5df"
      },
      "execution_count": 19,
      "outputs": [
        {
          "output_type": "stream",
          "name": "stdout",
          "text": [
            "[0.9066666666666666, 0.92, 0.8666666666666667, 0.88, 0.84, 0.8266666666666667, 0.8133333333333334, 0.8533333333333334, 0.8266666666666667, 0.84, 0.8266666666666667, 0.8266666666666667, 0.8133333333333334, 0.8133333333333334, 0.8, 0.8, 0.8, 0.8, 0.8, 0.8, 0.8, 0.8, 0.8, 0.8, 0.8, 0.8, 0.8, 0.8, 0.7866666666666666, 0.8, 0.8, 0.7866666666666666, 0.7866666666666666, 0.7866666666666666, 0.8, 0.7866666666666666, 0.8, 0.8, 0.8, 0.8266666666666667, 0.7866666666666666, 0.7866666666666666, 0.7733333333333333, 0.7866666666666666, 0.7733333333333333, 0.76, 0.7733333333333333, 0.76, 0.7733333333333333]\n"
          ]
        }
      ]
    },
    {
      "cell_type": "code",
      "source": [
        "plt.plot(range(1,50),accuracy)\n",
        "plt.grid(True)\n",
        "plt.show()"
      ],
      "metadata": {
        "colab": {
          "base_uri": "https://localhost:8080/",
          "height": 430
        },
        "id": "IooLkr7buOh4",
        "outputId": "b34c3184-63b0-4120-8383-9b7d34d24f6c"
      },
      "execution_count": 20,
      "outputs": [
        {
          "output_type": "display_data",
          "data": {
            "text/plain": [
              "<Figure size 640x480 with 1 Axes>"
            ],
            "image/png": "[encoded data removed]"
          },
          "metadata": {}
        }
      ]
    },
    {
      "cell_type": "code",
      "source": [
        "knn=KNeighborsClassifier(n_neighbors=2)\n",
        "knn.fit(xtrain,ytrain)\n",
        "ypred=knn.predict(xtest)"
      ],
      "metadata": {
        "id": "DitQnzeFuQY-"
      },
      "execution_count": 21,
      "outputs": []
    },
    {
      "cell_type": "code",
      "source": [
        "print(classification_report(ytest,ypred))"
      ],
      "metadata": {
        "colab": {
          "base_uri": "https://localhost:8080/"
        },
        "id": "pjHRluYbuQ-B",
        "outputId": "f7295e64-5a19-472a-928a-6fceca8490af"
      },
      "execution_count": 22,
      "outputs": [
        {
          "output_type": "stream",
          "name": "stdout",
          "text": [
            "              precision    recall  f1-score   support\n",
            "\n",
            "           0       0.93      0.96      0.94        53\n",
            "           1       0.90      0.82      0.86        22\n",
            "\n",
            "    accuracy                           0.92        75\n",
            "   macro avg       0.91      0.89      0.90        75\n",
            "weighted avg       0.92      0.92      0.92        75\n",
            "\n"
          ]
        }
      ]
    },
    {
      "cell_type": "code",
      "source": [
        "confusion_matrix(ytest,ypred)"
      ],
      "metadata": {
        "colab": {
          "base_uri": "https://localhost:8080/"
        },
        "id": "KJgGx9rcuSxW",
        "outputId": "16868234-caa4-4829-e7c1-3d0ae64e49b1"
      },
      "execution_count": 23,
      "outputs": [
        {
          "output_type": "execute_result",
          "data": {
            "text/plain": [
              "array([[51,  2],\n",
              "       [ 4, 18]])"
            ]
          },
          "metadata": {},
          "execution_count": 23
        }
      ]
    },
    {
      "cell_type": "code",
      "source": [
        "accuracy_score(ytest,ypred)"
      ],
      "metadata": {
        "colab": {
          "base_uri": "https://localhost:8080/"
        },
        "id": "-kZBAQeiuV_4",
        "outputId": "17905d48-144f-470b-fcef-f8d9f0b5b8e4"
      },
      "execution_count": 24,
      "outputs": [
        {
          "output_type": "execute_result",
          "data": {
            "text/plain": [
              "0.92"
            ]
          },
          "metadata": {},
          "execution_count": 24
        }
      ]
    }
  ]
}