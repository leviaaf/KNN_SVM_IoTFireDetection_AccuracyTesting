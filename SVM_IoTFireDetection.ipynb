{
  "cells": [
    {
      "cell_type": "markdown",
      "metadata": {
        "id": "view-in-github",
        "colab_type": "text"
      },
      "source": [
        "<a href=\"https://colab.research.google.com/github/leviaaf/KNN_SVM_IoTFireDetection_AccuracyTesting/blob/main/SVM_IoTFireDetection.ipynb\" target=\"_parent\"><img src=\"https://colab.research.google.com/assets/colab-badge.svg\" alt=\"Open In Colab\"/></a>"
      ]
    },
    {
      "cell_type": "code",
      "execution_count": 1,
      "metadata": {
        "id": "JkuTYAwoOxRy"
      },
      "outputs": [],
      "source": [
        "import numpy as np\n",
        "import pandas as pd\n",
        "import matplotlib.pyplot as plt\n",
        "import seaborn as sns\n",
        "from sklearn.preprocessing import LabelEncoder\n",
        "from sklearn.metrics import accuracy_score, confusion_matrix, classification_report\n",
        "from sklearn.svm import SVC\n",
        "from sklearn.model_selection import train_test_split"
      ]
    },
    {
      "cell_type": "code",
      "execution_count": 2,
      "metadata": {
        "id": "C7aKHYFRPCiV"
      },
      "outputs": [],
      "source": [
        "dataset = pd.read_csv('Training Dataset.csv')"
      ]
    },
    {
      "cell_type": "code",
      "execution_count": 3,
      "metadata": {
        "colab": {
          "base_uri": "https://localhost:8080/",
          "height": 206
        },
        "id": "IV0PS5g3PFvK",
        "outputId": "46ee7759-f56e-4c00-cd43-fca7f1cd36bc"
      },
      "outputs": [
        {
          "output_type": "execute_result",
          "data": {
            "text/plain": [
              "       Time  Api  Suhu  Kelembaban    PPM            Label\n",
              "0  13:33:59    0  26.9          72  50.14  Tidak Kebakaran\n",
              "1  13:34:03    0  26.8          72  50.89  Tidak Kebakaran\n",
              "2  13:34:06    0  26.9          72  49.77  Tidak Kebakaran\n",
              "3  13:34:10    0  26.9          72  51.64  Tidak Kebakaran\n",
              "4  13:34:14    0  26.8          72  54.34  Tidak Kebakaran"
            ],
            "text/html": [
              "\n",
              "  <div id=\"df-983d24d2-4f24-468b-b10f-cbac80f322f9\">\n",
              "    <div class=\"colab-df-container\">\n",
              "      <div>\n",
              "<style scoped>\n",
              "    .dataframe tbody tr th:only-of-type {\n",
              "        vertical-align: middle;\n",
              "    }\n",
              "\n",
              "    .dataframe tbody tr th {\n",
              "        vertical-align: top;\n",
              "    }\n",
              "\n",
              "    .dataframe thead th {\n",
              "        text-align: right;\n",
              "    }\n",
              "</style>\n",
              "<table border=\"1\" class=\"dataframe\">\n",
              "  <thead>\n",
              "    <tr style=\"text-align: right;\">\n",
              "      <th></th>\n",
              "      <th>Time</th>\n",
              "      <th>Api</th>\n",
              "      <th>Suhu</th>\n",
              "      <th>Kelembaban</th>\n",
              "      <th>PPM</th>\n",
              "      <th>Label</th>\n",
              "    </tr>\n",
              "  </thead>\n",
              "  <tbody>\n",
              "    <tr>\n",
              "      <th>0</th>\n",
              "      <td>13:33:59</td>\n",
              "      <td>0</td>\n",
              "      <td>26.9</td>\n",
              "      <td>72</td>\n",
              "      <td>50.14</td>\n",
              "      <td>Tidak Kebakaran</td>\n",
              "    </tr>\n",
              "    <tr>\n",
              "      <th>1</th>\n",
              "      <td>13:34:03</td>\n",
              "      <td>0</td>\n",
              "      <td>26.8</td>\n",
              "      <td>72</td>\n",
              "      <td>50.89</td>\n",
              "      <td>Tidak Kebakaran</td>\n",
              "    </tr>\n",
              "    <tr>\n",
              "      <th>2</th>\n",
              "      <td>13:34:06</td>\n",
              "      <td>0</td>\n",
              "      <td>26.9</td>\n",
              "      <td>72</td>\n",
              "      <td>49.77</td>\n",
              "      <td>Tidak Kebakaran</td>\n",
              "    </tr>\n",
              "    <tr>\n",
              "      <th>3</th>\n",
              "      <td>13:34:10</td>\n",
              "      <td>0</td>\n",
              "      <td>26.9</td>\n",
              "      <td>72</td>\n",
              "      <td>51.64</td>\n",
              "      <td>Tidak Kebakaran</td>\n",
              "    </tr>\n",
              "    <tr>\n",
              "      <th>4</th>\n",
              "      <td>13:34:14</td>\n",
              "      <td>0</td>\n",
              "      <td>26.8</td>\n",
              "      <td>72</td>\n",
              "      <td>54.34</td>\n",
              "      <td>Tidak Kebakaran</td>\n",
              "    </tr>\n",
              "  </tbody>\n",
              "</table>\n",
              "</div>\n",
              "      <button class=\"colab-df-convert\" onclick=\"convertToInteractive('df-983d24d2-4f24-468b-b10f-cbac80f322f9')\"\n",
              "              title=\"Convert this dataframe to an interactive table.\"\n",
              "              style=\"display:none;\">\n",
              "        \n",
              "  <svg xmlns=\"http://www.w3.org/2000/svg\" height=\"24px\"viewBox=\"0 0 24 24\"\n",
              "       width=\"24px\">\n",
              "    <path d=\"M0 0h24v24H0V0z\" fill=\"none\"/>\n",
              "    <path d=\"M18.56 5.44l.94 2.06.94-2.06 2.06-.94-2.06-.94-.94-2.06-.94 2.06-2.06.94zm-11 1L8.5 8.5l.94-2.06 2.06-.94-2.06-.94L8.5 2.5l-.94 2.06-2.06.94zm10 10l.94 2.06.94-2.06 2.06-.94-2.06-.94-.94-2.06-.94 2.06-2.06.94z\"/><path d=\"M17.41 7.96l-1.37-1.37c-.4-.4-.92-.59-1.43-.59-.52 0-1.04.2-1.43.59L10.3 9.45l-7.72 7.72c-.78.78-.78 2.05 0 2.83L4 21.41c.39.39.9.59 1.41.59.51 0 1.02-.2 1.41-.59l7.78-7.78 2.81-2.81c.8-.78.8-2.07 0-2.86zM5.41 20L4 18.59l7.72-7.72 1.47 1.35L5.41 20z\"/>\n",
              "  </svg>\n",
              "      </button>\n",
              "      \n",
              "  <style>\n",
              "    .colab-df-container {\n",
              "      display:flex;\n",
              "      flex-wrap:wrap;\n",
              "      gap: 12px;\n",
              "    }\n",
              "\n",
              "    .colab-df-convert {\n",
              "      background-color: #E8F0FE;\n",
              "      border: none;\n",
              "      border-radius: 50%;\n",
              "      cursor: pointer;\n",
              "      display: none;\n",
              "      fill: #1967D2;\n",
              "      height: 32px;\n",
              "      padding: 0 0 0 0;\n",
              "      width: 32px;\n",
              "    }\n",
              "\n",
              "    .colab-df-convert:hover {\n",
              "      background-color: #E2EBFA;\n",
              "      box-shadow: 0px 1px 2px rgba(60, 64, 67, 0.3), 0px 1px 3px 1px rgba(60, 64, 67, 0.15);\n",
              "      fill: #174EA6;\n",
              "    }\n",
              "\n",
              "    [theme=dark] .colab-df-convert {\n",
              "      background-color: #3B4455;\n",
              "      fill: #D2E3FC;\n",
              "    }\n",
              "\n",
              "    [theme=dark] .colab-df-convert:hover {\n",
              "      background-color: #434B5C;\n",
              "      box-shadow: 0px 1px 3px 1px rgba(0, 0, 0, 0.15);\n",
              "      filter: drop-shadow(0px 1px 2px rgba(0, 0, 0, 0.3));\n",
              "      fill: #FFFFFF;\n",
              "    }\n",
              "  </style>\n",
              "\n",
              "      <script>\n",
              "        const buttonEl =\n",
              "          document.querySelector('#df-983d24d2-4f24-468b-b10f-cbac80f322f9 button.colab-df-convert');\n",
              "        buttonEl.style.display =\n",
              "          google.colab.kernel.accessAllowed ? 'block' : 'none';\n",
              "\n",
              "        async function convertToInteractive(key) {\n",
              "          const element = document.querySelector('#df-983d24d2-4f24-468b-b10f-cbac80f322f9');\n",
              "          const dataTable =\n",
              "            await google.colab.kernel.invokeFunction('convertToInteractive',\n",
              "                                                     [key], {});\n",
              "          if (!dataTable) return;\n",
              "\n",
              "          const docLinkHtml = 'Like what you see? Visit the ' +\n",
              "            '<a target=\"_blank\" href=https://colab.research.google.com/notebooks/data_table.ipynb>data table notebook</a>'\n",
              "            + ' to learn more about interactive tables.';\n",
              "          element.innerHTML = '';\n",
              "          dataTable['output_type'] = 'display_data';\n",
              "          await google.colab.output.renderOutput(dataTable, element);\n",
              "          const docLink = document.createElement('div');\n",
              "          docLink.innerHTML = docLinkHtml;\n",
              "          element.appendChild(docLink);\n",
              "        }\n",
              "      </script>\n",
              "    </div>\n",
              "  </div>\n",
              "  "
            ]
          },
          "metadata": {},
          "execution_count": 3
        }
      ],
      "source": [
        "dataset.head()"
      ]
    },
    {
      "cell_type": "code",
      "execution_count": 4,
      "metadata": {
        "id": "820-aQqpPfjo"
      },
      "outputs": [],
      "source": [
        "le=LabelEncoder()\n",
        "dataset[\"Label\"]=le.fit_transform(dataset[\"Label\"])"
      ]
    },
    {
      "cell_type": "code",
      "execution_count": 5,
      "metadata": {
        "colab": {
          "base_uri": "https://localhost:8080/",
          "height": 206
        },
        "id": "ZpKZWORJPjsS",
        "outputId": "dc313ee9-4bd6-4ae4-a748-6db76e026e18"
      },
      "outputs": [
        {
          "output_type": "execute_result",
          "data": {
            "text/plain": [
              "       Time  Api  Suhu  Kelembaban    PPM  Label\n",
              "0  13:33:59    0  26.9          72  50.14      0\n",
              "1  13:34:03    0  26.8          72  50.89      0\n",
              "2  13:34:06    0  26.9          72  49.77      0\n",
              "3  13:34:10    0  26.9          72  51.64      0\n",
              "4  13:34:14    0  26.8          72  54.34      0"
            ],
            "text/html": [
              "\n",
              "  <div id=\"df-6a24be12-5796-4a08-9124-2e69108bea5a\">\n",
              "    <div class=\"colab-df-container\">\n",
              "      <div>\n",
              "<style scoped>\n",
              "    .dataframe tbody tr th:only-of-type {\n",
              "        vertical-align: middle;\n",
              "    }\n",
              "\n",
              "    .dataframe tbody tr th {\n",
              "        vertical-align: top;\n",
              "    }\n",
              "\n",
              "    .dataframe thead th {\n",
              "        text-align: right;\n",
              "    }\n",
              "</style>\n",
              "<table border=\"1\" class=\"dataframe\">\n",
              "  <thead>\n",
              "    <tr style=\"text-align: right;\">\n",
              "      <th></th>\n",
              "      <th>Time</th>\n",
              "      <th>Api</th>\n",
              "      <th>Suhu</th>\n",
              "      <th>Kelembaban</th>\n",
              "      <th>PPM</th>\n",
              "      <th>Label</th>\n",
              "    </tr>\n",
              "  </thead>\n",
              "  <tbody>\n",
              "    <tr>\n",
              "      <th>0</th>\n",
              "      <td>13:33:59</td>\n",
              "      <td>0</td>\n",
              "      <td>26.9</td>\n",
              "      <td>72</td>\n",
              "      <td>50.14</td>\n",
              "      <td>0</td>\n",
              "    </tr>\n",
              "    <tr>\n",
              "      <th>1</th>\n",
              "      <td>13:34:03</td>\n",
              "      <td>0</td>\n",
              "      <td>26.8</td>\n",
              "      <td>72</td>\n",
              "      <td>50.89</td>\n",
              "      <td>0</td>\n",
              "    </tr>\n",
              "    <tr>\n",
              "      <th>2</th>\n",
              "      <td>13:34:06</td>\n",
              "      <td>0</td>\n",
              "      <td>26.9</td>\n",
              "      <td>72</td>\n",
              "      <td>49.77</td>\n",
              "      <td>0</td>\n",
              "    </tr>\n",
              "    <tr>\n",
              "      <th>3</th>\n",
              "      <td>13:34:10</td>\n",
              "      <td>0</td>\n",
              "      <td>26.9</td>\n",
              "      <td>72</td>\n",
              "      <td>51.64</td>\n",
              "      <td>0</td>\n",
              "    </tr>\n",
              "    <tr>\n",
              "      <th>4</th>\n",
              "      <td>13:34:14</td>\n",
              "      <td>0</td>\n",
              "      <td>26.8</td>\n",
              "      <td>72</td>\n",
              "      <td>54.34</td>\n",
              "      <td>0</td>\n",
              "    </tr>\n",
              "  </tbody>\n",
              "</table>\n",
              "</div>\n",
              "      <button class=\"colab-df-convert\" onclick=\"convertToInteractive('df-6a24be12-5796-4a08-9124-2e69108bea5a')\"\n",
              "              title=\"Convert this dataframe to an interactive table.\"\n",
              "              style=\"display:none;\">\n",
              "        \n",
              "  <svg xmlns=\"http://www.w3.org/2000/svg\" height=\"24px\"viewBox=\"0 0 24 24\"\n",
              "       width=\"24px\">\n",
              "    <path d=\"M0 0h24v24H0V0z\" fill=\"none\"/>\n",
              "    <path d=\"M18.56 5.44l.94 2.06.94-2.06 2.06-.94-2.06-.94-.94-2.06-.94 2.06-2.06.94zm-11 1L8.5 8.5l.94-2.06 2.06-.94-2.06-.94L8.5 2.5l-.94 2.06-2.06.94zm10 10l.94 2.06.94-2.06 2.06-.94-2.06-.94-.94-2.06-.94 2.06-2.06.94z\"/><path d=\"M17.41 7.96l-1.37-1.37c-.4-.4-.92-.59-1.43-.59-.52 0-1.04.2-1.43.59L10.3 9.45l-7.72 7.72c-.78.78-.78 2.05 0 2.83L4 21.41c.39.39.9.59 1.41.59.51 0 1.02-.2 1.41-.59l7.78-7.78 2.81-2.81c.8-.78.8-2.07 0-2.86zM5.41 20L4 18.59l7.72-7.72 1.47 1.35L5.41 20z\"/>\n",
              "  </svg>\n",
              "      </button>\n",
              "      \n",
              "  <style>\n",
              "    .colab-df-container {\n",
              "      display:flex;\n",
              "      flex-wrap:wrap;\n",
              "      gap: 12px;\n",
              "    }\n",
              "\n",
              "    .colab-df-convert {\n",
              "      background-color: #E8F0FE;\n",
              "      border: none;\n",
              "      border-radius: 50%;\n",
              "      cursor: pointer;\n",
              "      display: none;\n",
              "      fill: #1967D2;\n",
              "      height: 32px;\n",
              "      padding: 0 0 0 0;\n",
              "      width: 32px;\n",
              "    }\n",
              "\n",
              "    .colab-df-convert:hover {\n",
              "      background-color: #E2EBFA;\n",
              "      box-shadow: 0px 1px 2px rgba(60, 64, 67, 0.3), 0px 1px 3px 1px rgba(60, 64, 67, 0.15);\n",
              "      fill: #174EA6;\n",
              "    }\n",
              "\n",
              "    [theme=dark] .colab-df-convert {\n",
              "      background-color: #3B4455;\n",
              "      fill: #D2E3FC;\n",
              "    }\n",
              "\n",
              "    [theme=dark] .colab-df-convert:hover {\n",
              "      background-color: #434B5C;\n",
              "      box-shadow: 0px 1px 3px 1px rgba(0, 0, 0, 0.15);\n",
              "      filter: drop-shadow(0px 1px 2px rgba(0, 0, 0, 0.3));\n",
              "      fill: #FFFFFF;\n",
              "    }\n",
              "  </style>\n",
              "\n",
              "      <script>\n",
              "        const buttonEl =\n",
              "          document.querySelector('#df-6a24be12-5796-4a08-9124-2e69108bea5a button.colab-df-convert');\n",
              "        buttonEl.style.display =\n",
              "          google.colab.kernel.accessAllowed ? 'block' : 'none';\n",
              "\n",
              "        async function convertToInteractive(key) {\n",
              "          const element = document.querySelector('#df-6a24be12-5796-4a08-9124-2e69108bea5a');\n",
              "          const dataTable =\n",
              "            await google.colab.kernel.invokeFunction('convertToInteractive',\n",
              "                                                     [key], {});\n",
              "          if (!dataTable) return;\n",
              "\n",
              "          const docLinkHtml = 'Like what you see? Visit the ' +\n",
              "            '<a target=\"_blank\" href=https://colab.research.google.com/notebooks/data_table.ipynb>data table notebook</a>'\n",
              "            + ' to learn more about interactive tables.';\n",
              "          element.innerHTML = '';\n",
              "          dataTable['output_type'] = 'display_data';\n",
              "          await google.colab.output.renderOutput(dataTable, element);\n",
              "          const docLink = document.createElement('div');\n",
              "          docLink.innerHTML = docLinkHtml;\n",
              "          element.appendChild(docLink);\n",
              "        }\n",
              "      </script>\n",
              "    </div>\n",
              "  </div>\n",
              "  "
            ]
          },
          "metadata": {},
          "execution_count": 5
        }
      ],
      "source": [
        "dataset.head()"
      ]
    },
    {
      "cell_type": "code",
      "execution_count": 6,
      "metadata": {
        "colab": {
          "base_uri": "https://localhost:8080/",
          "height": 206
        },
        "id": "8rr1bK-kPrSD",
        "outputId": "1b2e4241-ff67-495d-b252-ed1f334f9fe6"
      },
      "outputs": [
        {
          "output_type": "execute_result",
          "data": {
            "text/plain": [
              "   Api  Suhu  Kelembaban    PPM  Label\n",
              "0    0  26.9          72  50.14      0\n",
              "1    0  26.8          72  50.89      0\n",
              "2    0  26.9          72  49.77      0\n",
              "3    0  26.9          72  51.64      0\n",
              "4    0  26.8          72  54.34      0"
            ],
            "text/html": [
              "\n",
              "  <div id=\"df-8fef8ed4-2c8c-40df-af72-88b92ba7561d\">\n",
              "    <div class=\"colab-df-container\">\n",
              "      <div>\n",
              "<style scoped>\n",
              "    .dataframe tbody tr th:only-of-type {\n",
              "        vertical-align: middle;\n",
              "    }\n",
              "\n",
              "    .dataframe tbody tr th {\n",
              "        vertical-align: top;\n",
              "    }\n",
              "\n",
              "    .dataframe thead th {\n",
              "        text-align: right;\n",
              "    }\n",
              "</style>\n",
              "<table border=\"1\" class=\"dataframe\">\n",
              "  <thead>\n",
              "    <tr style=\"text-align: right;\">\n",
              "      <th></th>\n",
              "      <th>Api</th>\n",
              "      <th>Suhu</th>\n",
              "      <th>Kelembaban</th>\n",
              "      <th>PPM</th>\n",
              "      <th>Label</th>\n",
              "    </tr>\n",
              "  </thead>\n",
              "  <tbody>\n",
              "    <tr>\n",
              "      <th>0</th>\n",
              "      <td>0</td>\n",
              "      <td>26.9</td>\n",
              "      <td>72</td>\n",
              "      <td>50.14</td>\n",
              "      <td>0</td>\n",
              "    </tr>\n",
              "    <tr>\n",
              "      <th>1</th>\n",
              "      <td>0</td>\n",
              "      <td>26.8</td>\n",
              "      <td>72</td>\n",
              "      <td>50.89</td>\n",
              "      <td>0</td>\n",
              "    </tr>\n",
              "    <tr>\n",
              "      <th>2</th>\n",
              "      <td>0</td>\n",
              "      <td>26.9</td>\n",
              "      <td>72</td>\n",
              "      <td>49.77</td>\n",
              "      <td>0</td>\n",
              "    </tr>\n",
              "    <tr>\n",
              "      <th>3</th>\n",
              "      <td>0</td>\n",
              "      <td>26.9</td>\n",
              "      <td>72</td>\n",
              "      <td>51.64</td>\n",
              "      <td>0</td>\n",
              "    </tr>\n",
              "    <tr>\n",
              "      <th>4</th>\n",
              "      <td>0</td>\n",
              "      <td>26.8</td>\n",
              "      <td>72</td>\n",
              "      <td>54.34</td>\n",
              "      <td>0</td>\n",
              "    </tr>\n",
              "  </tbody>\n",
              "</table>\n",
              "</div>\n",
              "      <button class=\"colab-df-convert\" onclick=\"convertToInteractive('df-8fef8ed4-2c8c-40df-af72-88b92ba7561d')\"\n",
              "              title=\"Convert this dataframe to an interactive table.\"\n",
              "              style=\"display:none;\">\n",
              "        \n",
              "  <svg xmlns=\"http://www.w3.org/2000/svg\" height=\"24px\"viewBox=\"0 0 24 24\"\n",
              "       width=\"24px\">\n",
              "    <path d=\"M0 0h24v24H0V0z\" fill=\"none\"/>\n",
              "    <path d=\"M18.56 5.44l.94 2.06.94-2.06 2.06-.94-2.06-.94-.94-2.06-.94 2.06-2.06.94zm-11 1L8.5 8.5l.94-2.06 2.06-.94-2.06-.94L8.5 2.5l-.94 2.06-2.06.94zm10 10l.94 2.06.94-2.06 2.06-.94-2.06-.94-.94-2.06-.94 2.06-2.06.94z\"/><path d=\"M17.41 7.96l-1.37-1.37c-.4-.4-.92-.59-1.43-.59-.52 0-1.04.2-1.43.59L10.3 9.45l-7.72 7.72c-.78.78-.78 2.05 0 2.83L4 21.41c.39.39.9.59 1.41.59.51 0 1.02-.2 1.41-.59l7.78-7.78 2.81-2.81c.8-.78.8-2.07 0-2.86zM5.41 20L4 18.59l7.72-7.72 1.47 1.35L5.41 20z\"/>\n",
              "  </svg>\n",
              "      </button>\n",
              "      \n",
              "  <style>\n",
              "    .colab-df-container {\n",
              "      display:flex;\n",
              "      flex-wrap:wrap;\n",
              "      gap: 12px;\n",
              "    }\n",
              "\n",
              "    .colab-df-convert {\n",
              "      background-color: #E8F0FE;\n",
              "      border: none;\n",
              "      border-radius: 50%;\n",
              "      cursor: pointer;\n",
              "      display: none;\n",
              "      fill: #1967D2;\n",
              "      height: 32px;\n",
              "      padding: 0 0 0 0;\n",
              "      width: 32px;\n",
              "    }\n",
              "\n",
              "    .colab-df-convert:hover {\n",
              "      background-color: #E2EBFA;\n",
              "      box-shadow: 0px 1px 2px rgba(60, 64, 67, 0.3), 0px 1px 3px 1px rgba(60, 64, 67, 0.15);\n",
              "      fill: #174EA6;\n",
              "    }\n",
              "\n",
              "    [theme=dark] .colab-df-convert {\n",
              "      background-color: #3B4455;\n",
              "      fill: #D2E3FC;\n",
              "    }\n",
              "\n",
              "    [theme=dark] .colab-df-convert:hover {\n",
              "      background-color: #434B5C;\n",
              "      box-shadow: 0px 1px 3px 1px rgba(0, 0, 0, 0.15);\n",
              "      filter: drop-shadow(0px 1px 2px rgba(0, 0, 0, 0.3));\n",
              "      fill: #FFFFFF;\n",
              "    }\n",
              "  </style>\n",
              "\n",
              "      <script>\n",
              "        const buttonEl =\n",
              "          document.querySelector('#df-8fef8ed4-2c8c-40df-af72-88b92ba7561d button.colab-df-convert');\n",
              "        buttonEl.style.display =\n",
              "          google.colab.kernel.accessAllowed ? 'block' : 'none';\n",
              "\n",
              "        async function convertToInteractive(key) {\n",
              "          const element = document.querySelector('#df-8fef8ed4-2c8c-40df-af72-88b92ba7561d');\n",
              "          const dataTable =\n",
              "            await google.colab.kernel.invokeFunction('convertToInteractive',\n",
              "                                                     [key], {});\n",
              "          if (!dataTable) return;\n",
              "\n",
              "          const docLinkHtml = 'Like what you see? Visit the ' +\n",
              "            '<a target=\"_blank\" href=https://colab.research.google.com/notebooks/data_table.ipynb>data table notebook</a>'\n",
              "            + ' to learn more about interactive tables.';\n",
              "          element.innerHTML = '';\n",
              "          dataTable['output_type'] = 'display_data';\n",
              "          await google.colab.output.renderOutput(dataTable, element);\n",
              "          const docLink = document.createElement('div');\n",
              "          docLink.innerHTML = docLinkHtml;\n",
              "          element.appendChild(docLink);\n",
              "        }\n",
              "      </script>\n",
              "    </div>\n",
              "  </div>\n",
              "  "
            ]
          },
          "metadata": {},
          "execution_count": 6
        }
      ],
      "source": [
        "dataset = dataset.iloc[:,1:]\n",
        "dataset.head()"
      ]
    },
    {
      "cell_type": "code",
      "execution_count": 7,
      "metadata": {
        "colab": {
          "base_uri": "https://localhost:8080/",
          "height": 206
        },
        "id": "iiQx6aqWPvC-",
        "outputId": "dec50161-8df5-424a-dd91-adb73d9d9a50"
      },
      "outputs": [
        {
          "output_type": "execute_result",
          "data": {
            "text/plain": [
              "   Api  Suhu  Kelembaban    PPM\n",
              "0    0  26.9          72  50.14\n",
              "1    0  26.8          72  50.89\n",
              "2    0  26.9          72  49.77\n",
              "3    0  26.9          72  51.64\n",
              "4    0  26.8          72  54.34"
            ],
            "text/html": [
              "\n",
              "  <div id=\"df-22a303ef-207a-4afb-8d84-07f4f89172cd\">\n",
              "    <div class=\"colab-df-container\">\n",
              "      <div>\n",
              "<style scoped>\n",
              "    .dataframe tbody tr th:only-of-type {\n",
              "        vertical-align: middle;\n",
              "    }\n",
              "\n",
              "    .dataframe tbody tr th {\n",
              "        vertical-align: top;\n",
              "    }\n",
              "\n",
              "    .dataframe thead th {\n",
              "        text-align: right;\n",
              "    }\n",
              "</style>\n",
              "<table border=\"1\" class=\"dataframe\">\n",
              "  <thead>\n",
              "    <tr style=\"text-align: right;\">\n",
              "      <th></th>\n",
              "      <th>Api</th>\n",
              "      <th>Suhu</th>\n",
              "      <th>Kelembaban</th>\n",
              "      <th>PPM</th>\n",
              "    </tr>\n",
              "  </thead>\n",
              "  <tbody>\n",
              "    <tr>\n",
              "      <th>0</th>\n",
              "      <td>0</td>\n",
              "      <td>26.9</td>\n",
              "      <td>72</td>\n",
              "      <td>50.14</td>\n",
              "    </tr>\n",
              "    <tr>\n",
              "      <th>1</th>\n",
              "      <td>0</td>\n",
              "      <td>26.8</td>\n",
              "      <td>72</td>\n",
              "      <td>50.89</td>\n",
              "    </tr>\n",
              "    <tr>\n",
              "      <th>2</th>\n",
              "      <td>0</td>\n",
              "      <td>26.9</td>\n",
              "      <td>72</td>\n",
              "      <td>49.77</td>\n",
              "    </tr>\n",
              "    <tr>\n",
              "      <th>3</th>\n",
              "      <td>0</td>\n",
              "      <td>26.9</td>\n",
              "      <td>72</td>\n",
              "      <td>51.64</td>\n",
              "    </tr>\n",
              "    <tr>\n",
              "      <th>4</th>\n",
              "      <td>0</td>\n",
              "      <td>26.8</td>\n",
              "      <td>72</td>\n",
              "      <td>54.34</td>\n",
              "    </tr>\n",
              "  </tbody>\n",
              "</table>\n",
              "</div>\n",
              "      <button class=\"colab-df-convert\" onclick=\"convertToInteractive('df-22a303ef-207a-4afb-8d84-07f4f89172cd')\"\n",
              "              title=\"Convert this dataframe to an interactive table.\"\n",
              "              style=\"display:none;\">\n",
              "        \n",
              "  <svg xmlns=\"http://www.w3.org/2000/svg\" height=\"24px\"viewBox=\"0 0 24 24\"\n",
              "       width=\"24px\">\n",
              "    <path d=\"M0 0h24v24H0V0z\" fill=\"none\"/>\n",
              "    <path d=\"M18.56 5.44l.94 2.06.94-2.06 2.06-.94-2.06-.94-.94-2.06-.94 2.06-2.06.94zm-11 1L8.5 8.5l.94-2.06 2.06-.94-2.06-.94L8.5 2.5l-.94 2.06-2.06.94zm10 10l.94 2.06.94-2.06 2.06-.94-2.06-.94-.94-2.06-.94 2.06-2.06.94z\"/><path d=\"M17.41 7.96l-1.37-1.37c-.4-.4-.92-.59-1.43-.59-.52 0-1.04.2-1.43.59L10.3 9.45l-7.72 7.72c-.78.78-.78 2.05 0 2.83L4 21.41c.39.39.9.59 1.41.59.51 0 1.02-.2 1.41-.59l7.78-7.78 2.81-2.81c.8-.78.8-2.07 0-2.86zM5.41 20L4 18.59l7.72-7.72 1.47 1.35L5.41 20z\"/>\n",
              "  </svg>\n",
              "      </button>\n",
              "      \n",
              "  <style>\n",
              "    .colab-df-container {\n",
              "      display:flex;\n",
              "      flex-wrap:wrap;\n",
              "      gap: 12px;\n",
              "    }\n",
              "\n",
              "    .colab-df-convert {\n",
              "      background-color: #E8F0FE;\n",
              "      border: none;\n",
              "      border-radius: 50%;\n",
              "      cursor: pointer;\n",
              "      display: none;\n",
              "      fill: #1967D2;\n",
              "      height: 32px;\n",
              "      padding: 0 0 0 0;\n",
              "      width: 32px;\n",
              "    }\n",
              "\n",
              "    .colab-df-convert:hover {\n",
              "      background-color: #E2EBFA;\n",
              "      box-shadow: 0px 1px 2px rgba(60, 64, 67, 0.3), 0px 1px 3px 1px rgba(60, 64, 67, 0.15);\n",
              "      fill: #174EA6;\n",
              "    }\n",
              "\n",
              "    [theme=dark] .colab-df-convert {\n",
              "      background-color: #3B4455;\n",
              "      fill: #D2E3FC;\n",
              "    }\n",
              "\n",
              "    [theme=dark] .colab-df-convert:hover {\n",
              "      background-color: #434B5C;\n",
              "      box-shadow: 0px 1px 3px 1px rgba(0, 0, 0, 0.15);\n",
              "      filter: drop-shadow(0px 1px 2px rgba(0, 0, 0, 0.3));\n",
              "      fill: #FFFFFF;\n",
              "    }\n",
              "  </style>\n",
              "\n",
              "      <script>\n",
              "        const buttonEl =\n",
              "          document.querySelector('#df-22a303ef-207a-4afb-8d84-07f4f89172cd button.colab-df-convert');\n",
              "        buttonEl.style.display =\n",
              "          google.colab.kernel.accessAllowed ? 'block' : 'none';\n",
              "\n",
              "        async function convertToInteractive(key) {\n",
              "          const element = document.querySelector('#df-22a303ef-207a-4afb-8d84-07f4f89172cd');\n",
              "          const dataTable =\n",
              "            await google.colab.kernel.invokeFunction('convertToInteractive',\n",
              "                                                     [key], {});\n",
              "          if (!dataTable) return;\n",
              "\n",
              "          const docLinkHtml = 'Like what you see? Visit the ' +\n",
              "            '<a target=\"_blank\" href=https://colab.research.google.com/notebooks/data_table.ipynb>data table notebook</a>'\n",
              "            + ' to learn more about interactive tables.';\n",
              "          element.innerHTML = '';\n",
              "          dataTable['output_type'] = 'display_data';\n",
              "          await google.colab.output.renderOutput(dataTable, element);\n",
              "          const docLink = document.createElement('div');\n",
              "          docLink.innerHTML = docLinkHtml;\n",
              "          element.appendChild(docLink);\n",
              "        }\n",
              "      </script>\n",
              "    </div>\n",
              "  </div>\n",
              "  "
            ]
          },
          "metadata": {},
          "execution_count": 7
        }
      ],
      "source": [
        "x=dataset.iloc[ : , :-1]\n",
        "x.head()"
      ]
    },
    {
      "cell_type": "code",
      "execution_count": 8,
      "metadata": {
        "colab": {
          "base_uri": "https://localhost:8080/"
        },
        "id": "RkyJQJ0kPx_v",
        "outputId": "99ab035b-f405-4114-d219-f9b47582f9aa"
      },
      "outputs": [
        {
          "output_type": "execute_result",
          "data": {
            "text/plain": [
              "0    0\n",
              "1    0\n",
              "2    0\n",
              "3    0\n",
              "4    0\n",
              "Name: Label, dtype: int64"
            ]
          },
          "metadata": {},
          "execution_count": 8
        }
      ],
      "source": [
        "y=dataset.iloc[ : ,-1]\n",
        "y.head()"
      ]
    },
    {
      "cell_type": "code",
      "execution_count": 9,
      "metadata": {
        "id": "IcUhItgzP1m2"
      },
      "outputs": [],
      "source": [
        "xtrain, xtest, ytrain, ytest = train_test_split(x, y, test_size=0.2)"
      ]
    },
    {
      "cell_type": "code",
      "execution_count": 10,
      "metadata": {
        "colab": {
          "base_uri": "https://localhost:8080/"
        },
        "id": "TgFyppFaP4zl",
        "outputId": "b10db1ba-ea65-4538-a837-139a6f4f417d"
      },
      "outputs": [
        {
          "output_type": "stream",
          "name": "stdout",
          "text": [
            "     Api  Suhu  Kelembaban      PPM\n",
            "269    0  23.3          84     8.58\n",
            "109    1  35.1          84  2748.92\n",
            "50     0  26.8          75    62.54\n",
            "202    1  30.1          73   323.20\n",
            "135    0  23.6          85    56.72\n",
            "..   ...   ...         ...      ...\n",
            "56     0  26.8          75    59.59\n",
            "194    1  26.6          82   464.86\n",
            "27     0  26.8          74    49.03\n",
            "325    1  36.9          46   599.33\n",
            "5      0  26.8          72    47.57\n",
            "\n",
            "[296 rows x 4 columns]\n"
          ]
        }
      ],
      "source": [
        "print(xtrain)"
      ]
    },
    {
      "cell_type": "code",
      "execution_count": 11,
      "metadata": {
        "colab": {
          "base_uri": "https://localhost:8080/"
        },
        "id": "gYpcHJ93P7PA",
        "outputId": "fb6f93f5-0458-4bd5-b560-774b145dea0b"
      },
      "outputs": [
        {
          "output_type": "stream",
          "name": "stdout",
          "text": [
            "     Api  Suhu  Kelembaban      PPM\n",
            "140    0  23.6          84    48.66\n",
            "172    0  23.6          85    60.84\n",
            "257    0  23.2          84     4.99\n",
            "117    1  39.4          77  3724.66\n",
            "54     0  26.8          75    50.89\n",
            "..   ...   ...         ...      ...\n",
            "332    0  35.7          45   621.83\n",
            "312    1  25.1          85  9053.61\n",
            "217    1  34.4          63   393.85\n",
            "231    1  37.0          55   421.24\n",
            "87     1  28.0          76   441.85\n",
            "\n",
            "[75 rows x 4 columns]\n"
          ]
        }
      ],
      "source": [
        "print(xtest)"
      ]
    },
    {
      "cell_type": "code",
      "execution_count": 12,
      "metadata": {
        "id": "XGF79mPZP-_-"
      },
      "outputs": [],
      "source": [
        "from sklearn.preprocessing import Normalizer\n",
        "normscaler = Normalizer()\n",
        "xtrain = normscaler.fit_transform(xtrain)\n",
        "xtest = normscaler.fit_transform(xtest)"
      ]
    },
    {
      "cell_type": "code",
      "execution_count": 13,
      "metadata": {
        "colab": {
          "base_uri": "https://localhost:8080/"
        },
        "id": "_I0uXHGfQDAY",
        "outputId": "533e13be-1593-4088-da05-8b296200b7a3"
      },
      "outputs": [
        {
          "output_type": "stream",
          "name": "stdout",
          "text": [
            "[[0.00000000e+00 2.66003463e-01 9.58982443e-01 9.79532067e-02]\n",
            " [3.63579874e-04 1.27616536e-02 3.05407094e-02 9.99451986e-01]\n",
            " [0.00000000e+00 2.64653552e-01 7.40634940e-01 6.17590789e-01]\n",
            " ...\n",
            " [0.00000000e+00 2.89022401e-01 7.98046929e-01 5.28760012e-01]\n",
            " [1.66050870e-03 6.12727710e-02 7.63834001e-02 9.95192678e-01]\n",
            " [0.00000000e+00 2.96587502e-01 7.96802244e-01 5.26442816e-01]]\n"
          ]
        }
      ],
      "source": [
        "print(xtrain)"
      ]
    },
    {
      "cell_type": "code",
      "execution_count": 14,
      "metadata": {
        "colab": {
          "base_uri": "https://localhost:8080/"
        },
        "id": "A8puPiZPQFXo",
        "outputId": "f99e36c4-215c-403d-fe26-4b3632cef747"
      },
      "outputs": [
        {
          "output_type": "stream",
          "name": "stdout",
          "text": [
            "[[0.00000000e+00 2.36227412e-01 8.40809433e-01 4.87068893e-01]\n",
            " [0.00000000e+00 2.20229512e-01 7.93199513e-01 5.67744216e-01]\n",
            " [0.00000000e+00 2.65787777e-01 9.62335055e-01 5.71672848e-02]\n",
            " [2.68408509e-04 1.05752953e-02 2.06674552e-02 9.99730437e-01]\n",
            " [0.00000000e+00 2.83553718e-01 7.93527197e-01 5.38434654e-01]\n",
            " [0.00000000e+00 2.63541128e-01 9.46045073e-01 1.88533268e-01]\n",
            " [0.00000000e+00 2.52753166e-01 9.14213579e-01 3.16748116e-01]\n",
            " [2.14415552e-03 5.72489525e-02 1.56523353e-01 9.86011359e-01]\n",
            " [0.00000000e+00 1.33127727e-02 1.95873713e-02 9.99719513e-01]\n",
            " [0.00000000e+00 2.30514111e-01 8.20473954e-01 5.23149821e-01]\n",
            " [2.15755616e-03 8.04768446e-02 1.27295813e-01 9.88592231e-01]\n",
            " [0.00000000e+00 2.61184711e-01 9.37586140e-01 2.29596987e-01]\n",
            " [5.47073490e-04 1.75610590e-02 4.43129527e-02 9.98863190e-01]\n",
            " [0.00000000e+00 2.10315013e-01 7.48578858e-01 6.28806241e-01]\n",
            " [0.00000000e+00 2.76253453e-01 7.62789385e-01 5.84667755e-01]\n",
            " [1.64405537e-03 6.00080212e-02 7.56265472e-02 9.95327564e-01]\n",
            " [0.00000000e+00 2.66597499e-01 7.36127423e-01 6.22127149e-01]\n",
            " [0.00000000e+00 2.47863460e-01 8.96527408e-01 3.67154342e-01]\n",
            " [0.00000000e+00 2.82271290e-01 7.82324924e-01 5.55239257e-01]\n",
            " [0.00000000e+00 7.65736454e-02 1.44197125e-01 9.86581809e-01]\n",
            " [0.00000000e+00 2.65989945e-01 9.63067044e-01 4.18475561e-02]\n",
            " [2.35876522e-03 6.32149079e-02 1.74548626e-01 9.82614415e-01]\n",
            " [0.00000000e+00 2.27724487e-01 8.10544785e-01 5.39591243e-01]\n",
            " [2.29484997e-03 8.55979039e-02 1.26216748e-01 9.88300089e-01]\n",
            " [0.00000000e+00 7.02769876e-02 1.27167882e-01 9.89388435e-01]\n",
            " [0.00000000e+00 2.57174176e-01 9.30204468e-01 2.61879917e-01]\n",
            " [0.00000000e+00 2.65017145e-01 9.51343596e-01 1.57198204e-01]\n",
            " [0.00000000e+00 6.41956797e-02 8.88009403e-02 9.93978525e-01]\n",
            " [1.40031432e-03 5.15315670e-02 7.14160303e-02 9.96113592e-01]\n",
            " [0.00000000e+00 5.98769027e-02 7.84711546e-02 9.95116593e-01]\n",
            " [0.00000000e+00 2.48711139e-01 8.99593483e-01 3.58990717e-01]\n",
            " [0.00000000e+00 2.41594554e-01 8.73852642e-01 4.21916617e-01]\n",
            " [0.00000000e+00 2.46405619e-01 8.91254368e-01 3.80722895e-01]\n",
            " [0.00000000e+00 2.90272312e-01 7.90667119e-01 5.39061678e-01]\n",
            " [1.57495824e-03 5.79584631e-02 7.08731206e-02 9.95798844e-01]\n",
            " [0.00000000e+00 2.61085597e-01 9.64881554e-01 2.89464466e-02]\n",
            " [0.00000000e+00 2.84167248e-01 7.95244165e-01 5.35570437e-01]\n",
            " [0.00000000e+00 7.98124404e-02 1.54391278e-01 9.84780842e-01]\n",
            " [0.00000000e+00 1.74722085e-02 2.57715075e-02 9.99515158e-01]\n",
            " [7.47430918e-04 2.35440739e-02 5.90470426e-02 9.97977237e-01]\n",
            " [0.00000000e+00 1.41556758e-02 2.15874055e-02 9.99666745e-01]\n",
            " [0.00000000e+00 7.20421511e-02 1.42188456e-01 9.87214451e-01]\n",
            " [0.00000000e+00 2.65170720e-01 9.55980280e-01 1.25643122e-01]\n",
            " [2.80232807e-03 8.60314716e-02 1.98965293e-01 9.76219005e-01]\n",
            " [0.00000000e+00 2.33211742e-01 8.30075691e-01 5.06543809e-01]\n",
            " [0.00000000e+00 2.93125912e-01 7.84574933e-01 5.46369266e-01]\n",
            " [0.00000000e+00 2.16728155e-01 7.80588694e-01 5.86268026e-01]\n",
            " [0.00000000e+00 6.27111440e-02 9.06444265e-02 9.93906887e-01]\n",
            " [0.00000000e+00 2.14623102e-01 7.63912735e-01 6.08583813e-01]\n",
            " [2.21264486e-03 7.74425700e-02 1.30546047e-01 9.88410584e-01]\n",
            " [0.00000000e+00 2.65413980e-01 9.60981653e-01 7.79081555e-02]\n",
            " [1.61590895e-03 5.97886313e-02 8.24113566e-02 9.94802029e-01]\n",
            " [0.00000000e+00 2.62107760e-01 9.64465782e-01 3.32457029e-02]\n",
            " [0.00000000e+00 6.27715788e-02 9.95159177e-02 9.93054032e-01]\n",
            " [0.00000000e+00 2.15681029e-01 7.67678238e-01 6.03449929e-01]\n",
            " [0.00000000e+00 2.64043148e-01 9.51915212e-01 1.55366161e-01]\n",
            " [0.00000000e+00 6.78681361e-02 1.36190240e-01 9.88355267e-01]\n",
            " [0.00000000e+00 2.73276355e-01 7.57395142e-01 5.93019926e-01]\n",
            " [8.03821725e-04 2.51596200e-02 6.67172032e-02 9.97454341e-01]\n",
            " [0.00000000e+00 2.39502170e-01 8.52465351e-01 4.64695100e-01]\n",
            " [0.00000000e+00 2.65737684e-01 9.62153682e-01 6.03636894e-02]\n",
            " [0.00000000e+00 2.33419571e-01 8.40706083e-01 4.88598594e-01]\n",
            " [1.98421153e-03 7.42095113e-02 1.15084269e-01 9.90577923e-01]\n",
            " [0.00000000e+00 2.53206645e-01 9.15853822e-01 3.11605795e-01]\n",
            " [1.53215331e-03 4.45856614e-02 1.22572265e-01 9.91456409e-01]\n",
            " [0.00000000e+00 2.25812395e-01 8.03739034e-01 5.50465555e-01]\n",
            " [0.00000000e+00 2.86577751e-01 7.91296774e-01 5.40113514e-01]\n",
            " [2.51674007e-03 9.28677086e-02 1.53521144e-01 9.83768526e-01]\n",
            " [0.00000000e+00 2.93277188e-01 7.87908863e-01 5.41468480e-01]\n",
            " [1.02388949e-03 3.49146317e-02 7.06483749e-02 9.96889526e-01]\n",
            " [0.00000000e+00 5.71678003e-02 7.20602524e-02 9.95760595e-01]\n",
            " [1.10447886e-04 2.77224193e-03 9.38807028e-03 9.99952082e-01]\n",
            " [2.49788408e-03 8.59272122e-02 1.57366697e-01 9.83791643e-01]\n",
            " [2.34507919e-03 8.67679300e-02 1.28979355e-01 9.87841158e-01]\n",
            " [2.22611488e-03 6.23312167e-02 1.69184731e-01 9.83608861e-01]]\n"
          ]
        }
      ],
      "source": [
        "print(xtest)"
      ]
    },
    {
      "cell_type": "code",
      "execution_count": 15,
      "metadata": {
        "id": "nn_fRJwWQK4W"
      },
      "outputs": [],
      "source": [
        "model = SVC(kernel='linear', C=1E10)"
      ]
    },
    {
      "cell_type": "code",
      "execution_count": 16,
      "metadata": {
        "colab": {
          "base_uri": "https://localhost:8080/",
          "height": 75
        },
        "id": "TJb9l2a2QeJe",
        "outputId": "2fd96ee5-928b-4613-e72b-5d52eee3c70e"
      },
      "outputs": [
        {
          "output_type": "execute_result",
          "data": {
            "text/plain": [
              "SVC(C=10000000000.0, kernel='linear')"
            ],
            "text/html": [
              "<style>#sk-container-id-1 {color: black;background-color: white;}#sk-container-id-1 pre{padding: 0;}#sk-container-id-1 div.sk-toggleable {background-color: white;}#sk-container-id-1 label.sk-toggleable__label {cursor: pointer;display: block;width: 100%;margin-bottom: 0;padding: 0.3em;box-sizing: border-box;text-align: center;}#sk-container-id-1 label.sk-toggleable__label-arrow:before {content: \"▸\";float: left;margin-right: 0.25em;color: #696969;}#sk-container-id-1 label.sk-toggleable__label-arrow:hover:before {color: black;}#sk-container-id-1 div.sk-estimator:hover label.sk-toggleable__label-arrow:before {color: black;}#sk-container-id-1 div.sk-toggleable__content {max-height: 0;max-width: 0;overflow: hidden;text-align: left;background-color: #f0f8ff;}#sk-container-id-1 div.sk-toggleable__content pre {margin: 0.2em;color: black;border-radius: 0.25em;background-color: #f0f8ff;}#sk-container-id-1 input.sk-toggleable__control:checked~div.sk-toggleable__content {max-height: 200px;max-width: 100%;overflow: auto;}#sk-container-id-1 input.sk-toggleable__control:checked~label.sk-toggleable__label-arrow:before {content: \"▾\";}#sk-container-id-1 div.sk-estimator input.sk-toggleable__control:checked~label.sk-toggleable__label {background-color: #d4ebff;}#sk-container-id-1 div.sk-label input.sk-toggleable__control:checked~label.sk-toggleable__label {background-color: #d4ebff;}#sk-container-id-1 input.sk-hidden--visually {border: 0;clip: rect(1px 1px 1px 1px);clip: rect(1px, 1px, 1px, 1px);height: 1px;margin: -1px;overflow: hidden;padding: 0;position: absolute;width: 1px;}#sk-container-id-1 div.sk-estimator {font-family: monospace;background-color: #f0f8ff;border: 1px dotted black;border-radius: 0.25em;box-sizing: border-box;margin-bottom: 0.5em;}#sk-container-id-1 div.sk-estimator:hover {background-color: #d4ebff;}#sk-container-id-1 div.sk-parallel-item::after {content: \"\";width: 100%;border-bottom: 1px solid gray;flex-grow: 1;}#sk-container-id-1 div.sk-label:hover label.sk-toggleable__label {background-color: #d4ebff;}#sk-container-id-1 div.sk-serial::before {content: \"\";position: absolute;border-left: 1px solid gray;box-sizing: border-box;top: 0;bottom: 0;left: 50%;z-index: 0;}#sk-container-id-1 div.sk-serial {display: flex;flex-direction: column;align-items: center;background-color: white;padding-right: 0.2em;padding-left: 0.2em;position: relative;}#sk-container-id-1 div.sk-item {position: relative;z-index: 1;}#sk-container-id-1 div.sk-parallel {display: flex;align-items: stretch;justify-content: center;background-color: white;position: relative;}#sk-container-id-1 div.sk-item::before, #sk-container-id-1 div.sk-parallel-item::before {content: \"\";position: absolute;border-left: 1px solid gray;box-sizing: border-box;top: 0;bottom: 0;left: 50%;z-index: -1;}#sk-container-id-1 div.sk-parallel-item {display: flex;flex-direction: column;z-index: 1;position: relative;background-color: white;}#sk-container-id-1 div.sk-parallel-item:first-child::after {align-self: flex-end;width: 50%;}#sk-container-id-1 div.sk-parallel-item:last-child::after {align-self: flex-start;width: 50%;}#sk-container-id-1 div.sk-parallel-item:only-child::after {width: 0;}#sk-container-id-1 div.sk-dashed-wrapped {border: 1px dashed gray;margin: 0 0.4em 0.5em 0.4em;box-sizing: border-box;padding-bottom: 0.4em;background-color: white;}#sk-container-id-1 div.sk-label label {font-family: monospace;font-weight: bold;display: inline-block;line-height: 1.2em;}#sk-container-id-1 div.sk-label-container {text-align: center;}#sk-container-id-1 div.sk-container {/* jupyter's `normalize.less` sets `[hidden] { display: none; }` but bootstrap.min.css set `[hidden] { display: none !important; }` so we also need the `!important` here to be able to override the default hidden behavior on the sphinx rendered scikit-learn.org. See: https://github.com/scikit-learn/scikit-learn/issues/21755 */display: inline-block !important;position: relative;}#sk-container-id-1 div.sk-text-repr-fallback {display: none;}</style><div id=\"sk-container-id-1\" class=\"sk-top-container\"><div class=\"sk-text-repr-fallback\"><pre>SVC(C=10000000000.0, kernel=&#x27;linear&#x27;)</pre><b>In a Jupyter environment, please rerun this cell to show the HTML representation or trust the notebook. <br />On GitHub, the HTML representation is unable to render, please try loading this page with nbviewer.org.</b></div><div class=\"sk-container\" hidden><div class=\"sk-item\"><div class=\"sk-estimator sk-toggleable\"><input class=\"sk-toggleable__control sk-hidden--visually\" id=\"sk-estimator-id-1\" type=\"checkbox\" checked><label for=\"sk-estimator-id-1\" class=\"sk-toggleable__label sk-toggleable__label-arrow\">SVC</label><div class=\"sk-toggleable__content\"><pre>SVC(C=10000000000.0, kernel=&#x27;linear&#x27;)</pre></div></div></div></div></div>"
            ]
          },
          "metadata": {},
          "execution_count": 16
        }
      ],
      "source": [
        "model.fit(xtrain, ytrain)"
      ]
    },
    {
      "cell_type": "code",
      "execution_count": 17,
      "metadata": {
        "colab": {
          "base_uri": "https://localhost:8080/"
        },
        "id": "4BGO9b4RRBxA",
        "outputId": "38706778-1e37-49d5-98bf-7ff61820b7dd"
      },
      "outputs": [
        {
          "output_type": "stream",
          "name": "stdout",
          "text": [
            "[0 0 0 1 0 0 0 1 0 0 1 0 1 0 0 1 0 0 0 0 0 1 0 1 0 0 0 0 1 0 0 0 0 0 1 0 0\n",
            " 0 0 1 0 0 0 1 0 0 0 0 0 1 0 1 0 0 0 0 0 0 1 0 0 0 1 0 1 0 0 1 0 1 0 1 1 1\n",
            " 1]\n"
          ]
        }
      ],
      "source": [
        "predictions = model.predict(xtest)\n",
        "print(predictions)"
      ]
    },
    {
      "cell_type": "code",
      "execution_count": 18,
      "metadata": {
        "id": "l2LezJEMVDpl"
      },
      "outputs": [],
      "source": [
        "from sklearn.metrics import accuracy_score, confusion_matrix, classification_report"
      ]
    },
    {
      "cell_type": "code",
      "execution_count": 19,
      "metadata": {
        "id": "T8KglenSRM4R"
      },
      "outputs": [],
      "source": [
        "percentage = accuracy_score(ytest,predictions)"
      ]
    },
    {
      "cell_type": "code",
      "execution_count": 20,
      "metadata": {
        "colab": {
          "base_uri": "https://localhost:8080/"
        },
        "id": "gzgzj3gFRTiD",
        "outputId": "9b9ee769-989d-40f8-b9c8-69dcea3b9bd2"
      },
      "outputs": [
        {
          "output_type": "stream",
          "name": "stdout",
          "text": [
            "              precision    recall  f1-score   support\n",
            "\n",
            "           0       1.00      1.00      1.00        53\n",
            "           1       1.00      1.00      1.00        22\n",
            "\n",
            "    accuracy                           1.00        75\n",
            "   macro avg       1.00      1.00      1.00        75\n",
            "weighted avg       1.00      1.00      1.00        75\n",
            "\n",
            "Confusion Matrix\n",
            "[[53  0]\n",
            " [ 0 22]]\n",
            "Test Set: 75\n",
            "Accuracy = 100.0 %\n"
          ]
        }
      ],
      "source": [
        "res = confusion_matrix(ytest, predictions)\n",
        "print(classification_report(ytest,predictions))\n",
        "print(\"Confusion Matrix\")\n",
        "print(res)\n",
        "print(f\"Test Set: {len(xtest)}\")\n",
        "print(f\"Accuracy = {percentage*100} %\")"
      ]
    }
  ],
  "metadata": {
    "colab": {
      "provenance": [],
      "include_colab_link": true
    },
    "kernelspec": {
      "display_name": "Python 3",
      "name": "python3"
    },
    "language_info": {
      "name": "python"
    }
  },
  "nbformat": 4,
  "nbformat_minor": 0
}